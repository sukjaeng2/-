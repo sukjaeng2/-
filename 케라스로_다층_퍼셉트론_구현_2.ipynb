{
  "nbformat": 4,
  "nbformat_minor": 0,
  "metadata": {
    "colab": {
      "provenance": []
    },
    "kernelspec": {
      "name": "python3",
      "display_name": "Python 3"
    },
    "language_info": {
      "name": "python"
    }
  },
  "cells": [
    {
      "cell_type": "code",
      "source": [
        "import tensorflow as tf\n",
        "from sklearn.datasets import fetch_california_housing\n",
        "from sklearn.model_selection import train_test_split"
      ],
      "metadata": {
        "id": "IX8sSndlOOAJ"
      },
      "execution_count": 2,
      "outputs": []
    },
    {
      "cell_type": "code",
      "source": [
        "(x_train_full,y_train_full),(x_test,y_test) = tf.keras.datasets.california_housing.load_data()\n",
        "x_train_full.shape, y_train_full.shape, x_test.shape, y_test.shape\n"
      ],
      "metadata": {
        "colab": {
          "base_uri": "https://localhost:8080/"
        },
        "id": "y39BEVHsgSN9",
        "outputId": "689ab8ce-c229-4aef-9172-fe724bb6eb14"
      },
      "execution_count": 5,
      "outputs": [
        {
          "output_type": "execute_result",
          "data": {
            "text/plain": [
              "((16512, 8), (16512,), (4128, 8), (4128,))"
            ]
          },
          "metadata": {},
          "execution_count": 5
        }
      ]
    },
    {
      "cell_type": "code",
      "source": [
        "x_train,x_val,y_train,y_val = train_test_split(x_train_full,y_train_full,test_size=0.2,random_state=42)\n",
        "x_train.shape, y_train.shape, x_val.shape, y_val.shape"
      ],
      "metadata": {
        "colab": {
          "base_uri": "https://localhost:8080/"
        },
        "id": "Q632AvukO_pK",
        "outputId": "bc12da08-25c1-4206-f346-9f8f60ddd78a"
      },
      "execution_count": 7,
      "outputs": [
        {
          "output_type": "execute_result",
          "data": {
            "text/plain": [
              "((13209, 8), (13209,), (3303, 8), (3303,))"
            ]
          },
          "metadata": {},
          "execution_count": 7
        }
      ]
    },
    {
      "cell_type": "markdown",
      "source": [
        "- 일반적인 딥러닝 신경망\n",
        "  - API방식\n",
        "    - 객체를 만들고 객체단위로 결합\n",
        "    - 중간에 레이어를 삽입해도 되고, 삭제도 가능\n",
        "    - 모델을 저장했을때.. 불러와서 특정 레이어까지 잘라내서 다음은 커스텀한 레이어를 추가\n",
        "    - 결합할때는 model을 이용  sequence 방식이 아님"
      ],
      "metadata": {
        "id": "FETTykX2PEPo"
      }
    },
    {
      "cell_type": "code",
      "source": [
        "# 입력레이어\n",
        "# 정규화 레이어\n",
        "# 히든레이어를 2개\n",
        "# 출력레이어"
      ],
      "metadata": {
        "id": "k3arDbgePClW"
      },
      "execution_count": 8,
      "outputs": []
    },
    {
      "cell_type": "code",
      "source": [
        "# 샘플 데이터의 모양 shape\n",
        "x_train.shape, x_train.shape[1:]"
      ],
      "metadata": {
        "colab": {
          "base_uri": "https://localhost:8080/"
        },
        "id": "AopRHppXTHBu",
        "outputId": "f6aeef41-fcd5-4170-fe0f-12acf50458f0"
      },
      "execution_count": 10,
      "outputs": [
        {
          "output_type": "execute_result",
          "data": {
            "text/plain": [
              "((13209, 8), (8,))"
            ]
          },
          "metadata": {},
          "execution_count": 10
        }
      ]
    },
    {
      "cell_type": "code",
      "source": [
        "# 필요한 객체 정의\n",
        "input = tf.keras.layers.Input(shape=x_train.shape[1:] )\n",
        "norm = tf.keras.layers.Normalization()\n",
        "hidden1 = tf.keras.layers.Dense(30,activation='relu')\n",
        "hidden2 = tf.keras.layers.Dense(30,activation='relu')\n",
        "output = tf.keras.layers.Dense(1)\n",
        "\n",
        "x = norm(input)\n",
        "x = hidden1(x)\n",
        "x = hidden2(x)\n",
        "output = output(x)\n",
        "\n",
        "model = tf.keras.Model(inputs=input,outputs=output)\n"
      ],
      "metadata": {
        "id": "kAfVWO3vS5ZN"
      },
      "execution_count": 17,
      "outputs": []
    },
    {
      "cell_type": "code",
      "source": [
        "# model.summary()\n",
        "model.compile(loss='mse',optimizer='adam', metrics=['RootMeanSquaredError'])\n",
        "history = model.fit(x_train,y_train,epochs=14,validation_data=(x_val,y_val),verbose=1)"
      ],
      "metadata": {
        "colab": {
          "base_uri": "https://localhost:8080/"
        },
        "id": "5XTN2nlMT0Tk",
        "outputId": "8f67a7b9-ef88-4ec4-a704-9caacb2acf35"
      },
      "execution_count": 30,
      "outputs": [
        {
          "output_type": "stream",
          "name": "stdout",
          "text": [
            "Epoch 1/14\n",
            "\u001b[1m413/413\u001b[0m \u001b[32m━━━━━━━━━━━━━━━━━━━━\u001b[0m\u001b[37m\u001b[0m \u001b[1m3s\u001b[0m 5ms/step - RootMeanSquaredError: 100035.6016 - loss: 10008456192.0000 - val_RootMeanSquaredError: 100144.5078 - val_loss: 10028922880.0000\n",
            "Epoch 2/14\n",
            "\u001b[1m413/413\u001b[0m \u001b[32m━━━━━━━━━━━━━━━━━━━━\u001b[0m\u001b[37m\u001b[0m \u001b[1m1s\u001b[0m 3ms/step - RootMeanSquaredError: 100097.1797 - loss: 10019769344.0000 - val_RootMeanSquaredError: 99616.9219 - val_loss: 9923530752.0000\n",
            "Epoch 3/14\n",
            "\u001b[1m413/413\u001b[0m \u001b[32m━━━━━━━━━━━━━━━━━━━━\u001b[0m\u001b[37m\u001b[0m \u001b[1m1s\u001b[0m 2ms/step - RootMeanSquaredError: 100045.2969 - loss: 10010917888.0000 - val_RootMeanSquaredError: 99259.1484 - val_loss: 9852378112.0000\n",
            "Epoch 4/14\n",
            "\u001b[1m413/413\u001b[0m \u001b[32m━━━━━━━━━━━━━━━━━━━━\u001b[0m\u001b[37m\u001b[0m \u001b[1m1s\u001b[0m 2ms/step - RootMeanSquaredError: 98653.6953 - loss: 9732965376.0000 - val_RootMeanSquaredError: 98534.5078 - val_loss: 9709049856.0000\n",
            "Epoch 5/14\n",
            "\u001b[1m413/413\u001b[0m \u001b[32m━━━━━━━━━━━━━━━━━━━━\u001b[0m\u001b[37m\u001b[0m \u001b[1m1s\u001b[0m 2ms/step - RootMeanSquaredError: 97599.6797 - loss: 9530566656.0000 - val_RootMeanSquaredError: 98017.5469 - val_loss: 9607439360.0000\n",
            "Epoch 6/14\n",
            "\u001b[1m413/413\u001b[0m \u001b[32m━━━━━━━━━━━━━━━━━━━━\u001b[0m\u001b[37m\u001b[0m \u001b[1m1s\u001b[0m 2ms/step - RootMeanSquaredError: 97364.3750 - loss: 9480981504.0000 - val_RootMeanSquaredError: 97804.1172 - val_loss: 9565645824.0000\n",
            "Epoch 7/14\n",
            "\u001b[1m413/413\u001b[0m \u001b[32m━━━━━━━━━━━━━━━━━━━━\u001b[0m\u001b[37m\u001b[0m \u001b[1m1s\u001b[0m 2ms/step - RootMeanSquaredError: 96850.8984 - loss: 9381438464.0000 - val_RootMeanSquaredError: 96941.8906 - val_loss: 9397730304.0000\n",
            "Epoch 8/14\n",
            "\u001b[1m413/413\u001b[0m \u001b[32m━━━━━━━━━━━━━━━━━━━━\u001b[0m\u001b[37m\u001b[0m \u001b[1m1s\u001b[0m 2ms/step - RootMeanSquaredError: 96550.1094 - loss: 9323430912.0000 - val_RootMeanSquaredError: 96401.3438 - val_loss: 9293218816.0000\n",
            "Epoch 9/14\n",
            "\u001b[1m413/413\u001b[0m \u001b[32m━━━━━━━━━━━━━━━━━━━━\u001b[0m\u001b[37m\u001b[0m \u001b[1m1s\u001b[0m 2ms/step - RootMeanSquaredError: 96555.1797 - loss: 9324213248.0000 - val_RootMeanSquaredError: 95895.9141 - val_loss: 9196025856.0000\n",
            "Epoch 10/14\n",
            "\u001b[1m413/413\u001b[0m \u001b[32m━━━━━━━━━━━━━━━━━━━━\u001b[0m\u001b[37m\u001b[0m \u001b[1m1s\u001b[0m 2ms/step - RootMeanSquaredError: 97155.5938 - loss: 9440382976.0000 - val_RootMeanSquaredError: 95536.5859 - val_loss: 9127239680.0000\n",
            "Epoch 11/14\n",
            "\u001b[1m413/413\u001b[0m \u001b[32m━━━━━━━━━━━━━━━━━━━━\u001b[0m\u001b[37m\u001b[0m \u001b[1m1s\u001b[0m 2ms/step - RootMeanSquaredError: 95712.6641 - loss: 9161861120.0000 - val_RootMeanSquaredError: 94852.3359 - val_loss: 8996965376.0000\n",
            "Epoch 12/14\n",
            "\u001b[1m413/413\u001b[0m \u001b[32m━━━━━━━━━━━━━━━━━━━━\u001b[0m\u001b[37m\u001b[0m \u001b[1m1s\u001b[0m 2ms/step - RootMeanSquaredError: 94133.2344 - loss: 8861680640.0000 - val_RootMeanSquaredError: 94746.1016 - val_loss: 8976824320.0000\n",
            "Epoch 13/14\n",
            "\u001b[1m413/413\u001b[0m \u001b[32m━━━━━━━━━━━━━━━━━━━━\u001b[0m\u001b[37m\u001b[0m \u001b[1m2s\u001b[0m 3ms/step - RootMeanSquaredError: 94212.4688 - loss: 8876878848.0000 - val_RootMeanSquaredError: 93874.2891 - val_loss: 8812382208.0000\n",
            "Epoch 14/14\n",
            "\u001b[1m413/413\u001b[0m \u001b[32m━━━━━━━━━━━━━━━━━━━━\u001b[0m\u001b[37m\u001b[0m \u001b[1m1s\u001b[0m 3ms/step - RootMeanSquaredError: 93719.6328 - loss: 8783814656.0000 - val_RootMeanSquaredError: 93443.1250 - val_loss: 8731617280.0000\n"
          ]
        }
      ]
    },
    {
      "cell_type": "code",
      "source": [
        "import pandas as pd\n",
        "import matplotlib.pyplot as plt\n",
        "pd.DataFrame(history.history).plot(figsize=(8,5),xlim = (10,20),ylim=(1e10,1.25e10))\n",
        "plt.show()\n"
      ],
      "metadata": {
        "colab": {
          "base_uri": "https://localhost:8080/",
          "height": 460
        },
        "id": "W-XfA6FlUdpH",
        "outputId": "de225a15-7321-46da-fa33-8280069c6485"
      },
      "execution_count": 29,
      "outputs": [
        {
          "output_type": "display_data",
          "data": {
            "text/plain": [
              "<Figure size 800x500 with 1 Axes>"
            ],
            "image/png": "[encoded data removed]"
          },
          "metadata": {}
        }
      ]
    },
    {
      "cell_type": "markdown",
      "source": [
        "- 평가 및 예측"
      ],
      "metadata": {
        "id": "qKNzsq6yWebl"
      }
    },
    {
      "cell_type": "code",
      "source": [
        "model.evaluate(x_test,y_test)"
      ],
      "metadata": {
        "colab": {
          "base_uri": "https://localhost:8080/"
        },
        "id": "v2uzwJqXVO1x",
        "outputId": "9b71929a-21a2-4c9e-a009-43e1940eb0e4"
      },
      "execution_count": 31,
      "outputs": [
        {
          "output_type": "stream",
          "name": "stdout",
          "text": [
            "\u001b[1m129/129\u001b[0m \u001b[32m━━━━━━━━━━━━━━━━━━━━\u001b[0m\u001b[37m\u001b[0m \u001b[1m0s\u001b[0m 3ms/step - RootMeanSquaredError: 95379.5547 - loss: 9098869760.0000\n"
          ]
        },
        {
          "output_type": "execute_result",
          "data": {
            "text/plain": [
              "[8917997568.0, 94435.1484375]"
            ]
          },
          "metadata": {},
          "execution_count": 31
        }
      ]
    },
    {
      "cell_type": "code",
      "source": [
        "from sklearn.metrics import r2_score\n",
        "y_pred = model.predict(x_test)\n",
        "r2_score(y_test,y_pred)"
      ],
      "metadata": {
        "colab": {
          "base_uri": "https://localhost:8080/"
        },
        "id": "bTPsSaUuWkEX",
        "outputId": "27d63b7a-8732-4582-81f3-3213faa43dde"
      },
      "execution_count": 32,
      "outputs": [
        {
          "output_type": "stream",
          "name": "stdout",
          "text": [
            "\u001b[1m129/129\u001b[0m \u001b[32m━━━━━━━━━━━━━━━━━━━━\u001b[0m\u001b[37m\u001b[0m \u001b[1m0s\u001b[0m 2ms/step\n"
          ]
        },
        {
          "output_type": "execute_result",
          "data": {
            "text/plain": [
              "0.3291887640953064"
            ]
          },
          "metadata": {},
          "execution_count": 32
        }
      ]
    },
    {
      "cell_type": "markdown",
      "source": [
        "- 다층퍼셉트론\n",
        "  - 와이드 & 딥"
      ],
      "metadata": {
        "id": "bwSPgyWVXArD"
      }
    },
    {
      "cell_type": "code",
      "source": [
        "# 입력레이어\n",
        "# 정규화 레이어 는 따로 출력레이어와 테서연산(즉 합친다)\n",
        "# 히든레이어를 2개\n",
        "# 출력레이어"
      ],
      "metadata": {
        "id": "lkbsYAhaWy0o"
      },
      "execution_count": 33,
      "outputs": []
    },
    {
      "cell_type": "code",
      "source": [
        "# 필요한 객체 정의\n",
        "input = tf.keras.layers.Input(shape=x_train.shape[1:] )\n",
        "norm = tf.keras.layers.Normalization()\n",
        "hidden1 = tf.keras.layers.Dense(30,activation='relu')\n",
        "hidden2 = tf.keras.layers.Dense(30,activation='relu')\n",
        "concat = tf.keras.layers.Concatenate()  # 출력결과 합치기\n",
        "output = tf.keras.layers.Dense(1)\n",
        "\n",
        "x_ = norm(input)\n",
        "x = hidden1(x_)\n",
        "x = hidden2(x)\n",
        "x = concat([x,x_])\n",
        "output = output(x)\n",
        "\n",
        "model = tf.keras.Model(inputs=input,outputs=output)"
      ],
      "metadata": {
        "id": "WdOPk3C0XTso"
      },
      "execution_count": 39,
      "outputs": []
    },
    {
      "cell_type": "code",
      "source": [
        "# model.summary()\n",
        "model.compile(loss='mse',optimizer='adam', metrics=['RootMeanSquaredError'])\n",
        "history = model.fit(x_train,y_train,epochs=20,validation_data=(x_val,y_val),verbose=1)"
      ],
      "metadata": {
        "colab": {
          "base_uri": "https://localhost:8080/"
        },
        "collapsed": true,
        "id": "muOWYBJiYVix",
        "outputId": "112c3d43-b745-4314-cbcc-f8c0447297dc"
      },
      "execution_count": 41,
      "outputs": [
        {
          "output_type": "stream",
          "name": "stdout",
          "text": [
            "Epoch 1/20\n",
            "\u001b[1m413/413\u001b[0m \u001b[32m━━━━━━━━━━━━━━━━━━━━\u001b[0m\u001b[37m\u001b[0m \u001b[1m5s\u001b[0m 5ms/step - RootMeanSquaredError: 222837.5625 - loss: 49789857792.0000 - val_RootMeanSquaredError: 162048.8594 - val_loss: 26259832832.0000\n",
            "Epoch 2/20\n",
            "\u001b[1m413/413\u001b[0m \u001b[32m━━━━━━━━━━━━━━━━━━━━\u001b[0m\u001b[37m\u001b[0m \u001b[1m3s\u001b[0m 2ms/step - RootMeanSquaredError: 161773.1406 - loss: 26177126400.0000 - val_RootMeanSquaredError: 158295.1094 - val_loss: 25057341440.0000\n",
            "Epoch 3/20\n",
            "\u001b[1m413/413\u001b[0m \u001b[32m━━━━━━━━━━━━━━━━━━━━\u001b[0m\u001b[37m\u001b[0m \u001b[1m1s\u001b[0m 2ms/step - RootMeanSquaredError: 160831.3281 - loss: 25878691840.0000 - val_RootMeanSquaredError: 153177.0312 - val_loss: 23463204864.0000\n",
            "Epoch 4/20\n",
            "\u001b[1m413/413\u001b[0m \u001b[32m━━━━━━━━━━━━━━━━━━━━\u001b[0m\u001b[37m\u001b[0m \u001b[1m1s\u001b[0m 2ms/step - RootMeanSquaredError: 153995.6562 - loss: 23721527296.0000 - val_RootMeanSquaredError: 145319.1562 - val_loss: 21117657088.0000\n",
            "Epoch 5/20\n",
            "\u001b[1m413/413\u001b[0m \u001b[32m━━━━━━━━━━━━━━━━━━━━\u001b[0m\u001b[37m\u001b[0m \u001b[1m1s\u001b[0m 2ms/step - RootMeanSquaredError: 144673.2656 - loss: 20939284480.0000 - val_RootMeanSquaredError: 135260.9062 - val_loss: 18295513088.0000\n",
            "Epoch 6/20\n",
            "\u001b[1m413/413\u001b[0m \u001b[32m━━━━━━━━━━━━━━━━━━━━\u001b[0m\u001b[37m\u001b[0m \u001b[1m2s\u001b[0m 3ms/step - RootMeanSquaredError: 133757.8125 - loss: 17902936064.0000 - val_RootMeanSquaredError: 123091.8672 - val_loss: 15151608832.0000\n",
            "Epoch 7/20\n",
            "\u001b[1m413/413\u001b[0m \u001b[32m━━━━━━━━━━━━━━━━━━━━\u001b[0m\u001b[37m\u001b[0m \u001b[1m2s\u001b[0m 2ms/step - RootMeanSquaredError: 118922.7109 - loss: 14146161664.0000 - val_RootMeanSquaredError: 112718.1328 - val_loss: 12705378304.0000\n",
            "Epoch 8/20\n",
            "\u001b[1m413/413\u001b[0m \u001b[32m━━━━━━━━━━━━━━━━━━━━\u001b[0m\u001b[37m\u001b[0m \u001b[1m1s\u001b[0m 2ms/step - RootMeanSquaredError: 111376.7500 - loss: 12407868416.0000 - val_RootMeanSquaredError: 107538.2188 - val_loss: 11564469248.0000\n",
            "Epoch 9/20\n",
            "\u001b[1m413/413\u001b[0m \u001b[32m━━━━━━━━━━━━━━━━━━━━\u001b[0m\u001b[37m\u001b[0m \u001b[1m1s\u001b[0m 2ms/step - RootMeanSquaredError: 106986.1016 - loss: 11447109632.0000 - val_RootMeanSquaredError: 105683.1953 - val_loss: 11168937984.0000\n",
            "Epoch 10/20\n",
            "\u001b[1m413/413\u001b[0m \u001b[32m━━━━━━━━━━━━━━━━━━━━\u001b[0m\u001b[37m\u001b[0m \u001b[1m1s\u001b[0m 2ms/step - RootMeanSquaredError: 105687.1094 - loss: 11170232320.0000 - val_RootMeanSquaredError: 105280.5078 - val_loss: 11083984896.0000\n",
            "Epoch 11/20\n",
            "\u001b[1m413/413\u001b[0m \u001b[32m━━━━━━━━━━━━━━━━━━━━\u001b[0m\u001b[37m\u001b[0m \u001b[1m1s\u001b[0m 2ms/step - RootMeanSquaredError: 104990.2500 - loss: 11026036736.0000 - val_RootMeanSquaredError: 104495.7734 - val_loss: 10919366656.0000\n",
            "Epoch 12/20\n",
            "\u001b[1m413/413\u001b[0m \u001b[32m━━━━━━━━━━━━━━━━━━━━\u001b[0m\u001b[37m\u001b[0m \u001b[1m1s\u001b[0m 2ms/step - RootMeanSquaredError: 105644.5469 - loss: 11166950400.0000 - val_RootMeanSquaredError: 104094.6016 - val_loss: 10835685376.0000\n",
            "Epoch 13/20\n",
            "\u001b[1m413/413\u001b[0m \u001b[32m━━━━━━━━━━━━━━━━━━━━\u001b[0m\u001b[37m\u001b[0m \u001b[1m1s\u001b[0m 2ms/step - RootMeanSquaredError: 103815.5234 - loss: 10779149312.0000 - val_RootMeanSquaredError: 103585.4922 - val_loss: 10729954304.0000\n",
            "Epoch 14/20\n",
            "\u001b[1m413/413\u001b[0m \u001b[32m━━━━━━━━━━━━━━━━━━━━\u001b[0m\u001b[37m\u001b[0m \u001b[1m1s\u001b[0m 2ms/step - RootMeanSquaredError: 103816.2656 - loss: 10779045888.0000 - val_RootMeanSquaredError: 103252.4453 - val_loss: 10661067776.0000\n",
            "Epoch 15/20\n",
            "\u001b[1m413/413\u001b[0m \u001b[32m━━━━━━━━━━━━━━━━━━━━\u001b[0m\u001b[37m\u001b[0m \u001b[1m2s\u001b[0m 3ms/step - RootMeanSquaredError: 102895.2344 - loss: 10588144640.0000 - val_RootMeanSquaredError: 102589.5234 - val_loss: 10524611584.0000\n",
            "Epoch 16/20\n",
            "\u001b[1m413/413\u001b[0m \u001b[32m━━━━━━━━━━━━━━━━━━━━\u001b[0m\u001b[37m\u001b[0m \u001b[1m1s\u001b[0m 3ms/step - RootMeanSquaredError: 102131.2812 - loss: 10431221760.0000 - val_RootMeanSquaredError: 102426.0547 - val_loss: 10491098112.0000\n",
            "Epoch 17/20\n",
            "\u001b[1m413/413\u001b[0m \u001b[32m━━━━━━━━━━━━━━━━━━━━\u001b[0m\u001b[37m\u001b[0m \u001b[1m1s\u001b[0m 2ms/step - RootMeanSquaredError: 102632.1797 - loss: 10535488512.0000 - val_RootMeanSquaredError: 101564.5391 - val_loss: 10315356160.0000\n",
            "Epoch 18/20\n",
            "\u001b[1m413/413\u001b[0m \u001b[32m━━━━━━━━━━━━━━━━━━━━\u001b[0m\u001b[37m\u001b[0m \u001b[1m1s\u001b[0m 2ms/step - RootMeanSquaredError: 100949.2344 - loss: 10192082944.0000 - val_RootMeanSquaredError: 101300.2812 - val_loss: 10261747712.0000\n",
            "Epoch 19/20\n",
            "\u001b[1m413/413\u001b[0m \u001b[32m━━━━━━━━━━━━━━━━━━━━\u001b[0m\u001b[37m\u001b[0m \u001b[1m1s\u001b[0m 2ms/step - RootMeanSquaredError: 101042.3203 - loss: 10211892224.0000 - val_RootMeanSquaredError: 100894.1719 - val_loss: 10179634176.0000\n",
            "Epoch 20/20\n",
            "\u001b[1m413/413\u001b[0m \u001b[32m━━━━━━━━━━━━━━━━━━━━\u001b[0m\u001b[37m\u001b[0m \u001b[1m1s\u001b[0m 2ms/step - RootMeanSquaredError: 100585.5312 - loss: 10119711744.0000 - val_RootMeanSquaredError: 100242.3516 - val_loss: 10048528384.0000\n"
          ]
        }
      ]
    },
    {
      "cell_type": "code",
      "source": [
        "pd.DataFrame(history.history).plot(figsize=(8,5),xlim = (10,20),ylim=(1e10,1.25e10))\n",
        "plt.show()"
      ],
      "metadata": {
        "colab": {
          "base_uri": "https://localhost:8080/",
          "height": 460
        },
        "collapsed": true,
        "id": "TtJ9LNWOZN5j",
        "outputId": "8bc8948e-bdae-497b-c9b0-cf9d7c2bdc59"
      },
      "execution_count": 42,
      "outputs": [
        {
          "output_type": "display_data",
          "data": {
            "text/plain": [
              "<Figure size 800x500 with 1 Axes>"
            ],
            "image/png": "[encoded data removed]"
          },
          "metadata": {}
        }
      ]
    },
    {
      "cell_type": "code",
      "source": [
        "r2_score(y_test,y_pred)"
      ],
      "metadata": {
        "colab": {
          "base_uri": "https://localhost:8080/"
        },
        "id": "l36Ketb7ZhH4",
        "outputId": "f6d13e0e-523f-4d27-8cdc-e8bddef72e49"
      },
      "execution_count": 43,
      "outputs": [
        {
          "output_type": "execute_result",
          "data": {
            "text/plain": [
              "0.3291887640953064"
            ]
          },
          "metadata": {},
          "execution_count": 43
        }
      ]
    },
    {
      "cell_type": "markdown",
      "source": [
        "- 딥러닝 적용\n",
        " - 타이타닉 생존자 분류\n",
        " - iris 품종분류"
      ],
      "metadata": {
        "id": "iFXdZhOVZ2KT"
      }
    },
    {
      "cell_type": "code",
      "source": [
        "from sklearn.datasets import load_iris\n",
        "from seaborn import load_dataset\n",
        "iris_df = load_iris(as_frame=True)\n",
        "titanic_df = load_dataset('titanic')"
      ],
      "metadata": {
        "id": "4WzoDu7jgc75"
      },
      "execution_count": 3,
      "outputs": []
    },
    {
      "cell_type": "code",
      "source": [
        "# iris 품좀 분류\n",
        "from sklearn.model_selection import train_test_split\n",
        "x_train_full,x_test,y_train_full,y_test= train_test_split(iris_df.data,iris_df.target, stratify=iris_df.target,random_state=42)\n",
        "x_train,x_val,y_train,y_val= train_test_split(x_train_full,y_train_full, stratify=y_train_full,random_state=42)\n"
      ],
      "metadata": {
        "id": "1zgTVXs7grjS"
      },
      "execution_count": 4,
      "outputs": []
    },
    {
      "cell_type": "code",
      "source": [
        "# hidden 10,20,30\n",
        "# 결합방식은 함수형 API방식\n",
        "import tensorflow as tf\n",
        "input = tf.keras.layers.Input(shape=x_train.shape[1:])\n",
        "norm = tf.keras.layers.Normalization()\n",
        "h1 = tf.keras.layers.Dense(10,activation='relu')\n",
        "h2 = tf.keras.layers.Dense(20,activation='relu')\n",
        "h3 = tf.keras.layers.Dense(30,activation='relu')\n",
        "output = tf.keras.layers.Dense(3,activation='softmax')\n",
        "\n",
        "# 결합\n",
        "x = norm(input)\n",
        "x = h1(x)\n",
        "x = h2(x)\n",
        "x = h3(x)\n",
        "output = output(x)\n",
        "model = tf.keras.Model(inputs=input,outputs=output)\n",
        "model.compile(loss='sparse_categorical_crossentropy',optimizer='adam',metrics=['accuracy'])\n",
        "history = model.fit(x_train,y_train,epochs=20,validation_data=(x_val,y_val),verbose=1)"
      ],
      "metadata": {
        "colab": {
          "base_uri": "https://localhost:8080/"
        },
        "collapsed": true,
        "id": "Boy39UmahXMH",
        "outputId": "a73c5e76-edec-423e-b69a-3d924ae6abde"
      },
      "execution_count": 6,
      "outputs": [
        {
          "output_type": "stream",
          "name": "stdout",
          "text": [
            "Epoch 1/20\n",
            "\u001b[1m3/3\u001b[0m \u001b[32m━━━━━━━━━━━━━━━━━━━━\u001b[0m\u001b[37m\u001b[0m \u001b[1m2s\u001b[0m 106ms/step - accuracy: 0.3346 - loss: 2.6130 - val_accuracy: 0.3571 - val_loss: 2.3281\n",
            "Epoch 2/20\n",
            "\u001b[1m3/3\u001b[0m \u001b[32m━━━━━━━━━━━━━━━━━━━━\u001b[0m\u001b[37m\u001b[0m \u001b[1m0s\u001b[0m 17ms/step - accuracy: 0.3190 - loss: 2.3713 - val_accuracy: 0.3571 - val_loss: 2.0622\n",
            "Epoch 3/20\n",
            "\u001b[1m3/3\u001b[0m \u001b[32m━━━━━━━━━━━━━━━━━━━━\u001b[0m\u001b[37m\u001b[0m \u001b[1m0s\u001b[0m 16ms/step - accuracy: 0.3620 - loss: 1.9234 - val_accuracy: 0.3571 - val_loss: 1.8378\n",
            "Epoch 4/20\n",
            "\u001b[1m3/3\u001b[0m \u001b[32m━━━━━━━━━━━━━━━━━━━━\u001b[0m\u001b[37m\u001b[0m \u001b[1m0s\u001b[0m 15ms/step - accuracy: 0.3229 - loss: 1.8734 - val_accuracy: 0.3571 - val_loss: 1.6525\n",
            "Epoch 5/20\n",
            "\u001b[1m3/3\u001b[0m \u001b[32m━━━━━━━━━━━━━━━━━━━━\u001b[0m\u001b[37m\u001b[0m \u001b[1m0s\u001b[0m 16ms/step - accuracy: 0.3307 - loss: 1.6623 - val_accuracy: 0.3571 - val_loss: 1.5067\n",
            "Epoch 6/20\n",
            "\u001b[1m3/3\u001b[0m \u001b[32m━━━━━━━━━━━━━━━━━━━━\u001b[0m\u001b[37m\u001b[0m \u001b[1m0s\u001b[0m 17ms/step - accuracy: 0.3581 - loss: 1.4615 - val_accuracy: 0.3571 - val_loss: 1.3946\n",
            "Epoch 7/20\n",
            "\u001b[1m3/3\u001b[0m \u001b[32m━━━━━━━━━━━━━━━━━━━━\u001b[0m\u001b[37m\u001b[0m \u001b[1m0s\u001b[0m 20ms/step - accuracy: 0.3112 - loss: 1.4076 - val_accuracy: 0.3571 - val_loss: 1.3051\n",
            "Epoch 8/20\n",
            "\u001b[1m3/3\u001b[0m \u001b[32m━━━━━━━━━━━━━━━━━━━━\u001b[0m\u001b[37m\u001b[0m \u001b[1m0s\u001b[0m 16ms/step - accuracy: 0.3229 - loss: 1.3158 - val_accuracy: 0.1429 - val_loss: 1.2337\n",
            "Epoch 9/20\n",
            "\u001b[1m3/3\u001b[0m \u001b[32m━━━━━━━━━━━━━━━━━━━━\u001b[0m\u001b[37m\u001b[0m \u001b[1m0s\u001b[0m 16ms/step - accuracy: 0.0884 - loss: 1.2175 - val_accuracy: 0.0000e+00 - val_loss: 1.1761\n",
            "Epoch 10/20\n",
            "\u001b[1m3/3\u001b[0m \u001b[32m━━━━━━━━━━━━━━━━━━━━\u001b[0m\u001b[37m\u001b[0m \u001b[1m0s\u001b[0m 28ms/step - accuracy: 0.0692 - loss: 1.1751 - val_accuracy: 0.2500 - val_loss: 1.1330\n",
            "Epoch 11/20\n",
            "\u001b[1m3/3\u001b[0m \u001b[32m━━━━━━━━━━━━━━━━━━━━\u001b[0m\u001b[37m\u001b[0m \u001b[1m0s\u001b[0m 17ms/step - accuracy: 0.3073 - loss: 1.1290 - val_accuracy: 0.3214 - val_loss: 1.0949\n",
            "Epoch 12/20\n",
            "\u001b[1m3/3\u001b[0m \u001b[32m━━━━━━━━━━━━━━━━━━━━\u001b[0m\u001b[37m\u001b[0m \u001b[1m0s\u001b[0m 16ms/step - accuracy: 0.3718 - loss: 1.0651 - val_accuracy: 0.3214 - val_loss: 1.0622\n",
            "Epoch 13/20\n",
            "\u001b[1m3/3\u001b[0m \u001b[32m━━━━━━━━━━━━━━━━━━━━\u001b[0m\u001b[37m\u001b[0m \u001b[1m0s\u001b[0m 16ms/step - accuracy: 0.3702 - loss: 1.0437 - val_accuracy: 0.3929 - val_loss: 1.0349\n",
            "Epoch 14/20\n",
            "\u001b[1m3/3\u001b[0m \u001b[32m━━━━━━━━━━━━━━━━━━━━\u001b[0m\u001b[37m\u001b[0m \u001b[1m0s\u001b[0m 23ms/step - accuracy: 0.4334 - loss: 1.0214 - val_accuracy: 0.5714 - val_loss: 1.0075\n",
            "Epoch 15/20\n",
            "\u001b[1m3/3\u001b[0m \u001b[32m━━━━━━━━━━━━━━━━━━━━\u001b[0m\u001b[37m\u001b[0m \u001b[1m0s\u001b[0m 17ms/step - accuracy: 0.6218 - loss: 0.9888 - val_accuracy: 0.3571 - val_loss: 0.9822\n",
            "Epoch 16/20\n",
            "\u001b[1m3/3\u001b[0m \u001b[32m━━━━━━━━━━━━━━━━━━━━\u001b[0m\u001b[37m\u001b[0m \u001b[1m0s\u001b[0m 17ms/step - accuracy: 0.3346 - loss: 0.9657 - val_accuracy: 0.3214 - val_loss: 0.9584\n",
            "Epoch 17/20\n",
            "\u001b[1m3/3\u001b[0m \u001b[32m━━━━━━━━━━━━━━━━━━━━\u001b[0m\u001b[37m\u001b[0m \u001b[1m0s\u001b[0m 16ms/step - accuracy: 0.3250 - loss: 0.9542 - val_accuracy: 0.4286 - val_loss: 0.9347\n",
            "Epoch 18/20\n",
            "\u001b[1m3/3\u001b[0m \u001b[32m━━━━━━━━━━━━━━━━━━━━\u001b[0m\u001b[37m\u001b[0m \u001b[1m0s\u001b[0m 17ms/step - accuracy: 0.4747 - loss: 0.9276 - val_accuracy: 0.6071 - val_loss: 0.9112\n",
            "Epoch 19/20\n",
            "\u001b[1m3/3\u001b[0m \u001b[32m━━━━━━━━━━━━━━━━━━━━\u001b[0m\u001b[37m\u001b[0m \u001b[1m0s\u001b[0m 16ms/step - accuracy: 0.6319 - loss: 0.8968 - val_accuracy: 0.6786 - val_loss: 0.8870\n",
            "Epoch 20/20\n",
            "\u001b[1m3/3\u001b[0m \u001b[32m━━━━━━━━━━━━━━━━━━━━\u001b[0m\u001b[37m\u001b[0m \u001b[1m0s\u001b[0m 16ms/step - accuracy: 0.6576 - loss: 0.8860 - val_accuracy: 0.6786 - val_loss: 0.8612\n"
          ]
        }
      ]
    },
    {
      "cell_type": "code",
      "source": [
        "model.evaluate(x_test,y_test)"
      ],
      "metadata": {
        "colab": {
          "base_uri": "https://localhost:8080/"
        },
        "id": "pk8f5hcwi1vH",
        "outputId": "9504900a-8164-425c-a782-dae24ebb1642"
      },
      "execution_count": 7,
      "outputs": [
        {
          "output_type": "stream",
          "name": "stdout",
          "text": [
            "\u001b[1m2/2\u001b[0m \u001b[32m━━━━━━━━━━━━━━━━━━━━\u001b[0m\u001b[37m\u001b[0m \u001b[1m0s\u001b[0m 10ms/step - accuracy: 0.6190 - loss: 0.8650\n"
          ]
        },
        {
          "output_type": "execute_result",
          "data": {
            "text/plain": [
              "[0.867682933807373, 0.6315789222717285]"
            ]
          },
          "metadata": {},
          "execution_count": 7
        }
      ]
    },
    {
      "cell_type": "code",
      "source": [
        "from sklearn.ensemble import RandomForestClassifier\n",
        "rfc = RandomForestClassifier()\n",
        "rfc.fit(x_train,y_train)\n",
        "rfc.score(x_test,y_test)"
      ],
      "metadata": {
        "colab": {
          "base_uri": "https://localhost:8080/"
        },
        "id": "XUPbvfo0jG0o",
        "outputId": "22f48867-d8b6-45f8-fbd1-d6a9c9f97cc6"
      },
      "execution_count": 8,
      "outputs": [
        {
          "output_type": "execute_result",
          "data": {
            "text/plain": [
              "0.8947368421052632"
            ]
          },
          "metadata": {},
          "execution_count": 8
        }
      ]
    },
    {
      "cell_type": "markdown",
      "source": [
        "- 타이타닉"
      ],
      "metadata": {
        "id": "a2UENtTAjzDY"
      }
    },
    {
      "cell_type": "code",
      "source": [
        "titanic_df.dropna(inplace=True)\n",
        "titanic_df.info()"
      ],
      "metadata": {
        "colab": {
          "base_uri": "https://localhost:8080/"
        },
        "collapsed": true,
        "id": "6KUxt5nrjv2Q",
        "outputId": "a7fcbb8a-f741-4720-871e-112484cd46ec"
      },
      "execution_count": 10,
      "outputs": [
        {
          "output_type": "stream",
          "name": "stdout",
          "text": [
            "<class 'pandas.core.frame.DataFrame'>\n",
            "Index: 182 entries, 1 to 889\n",
            "Data columns (total 15 columns):\n",
            " #   Column       Non-Null Count  Dtype   \n",
            "---  ------       --------------  -----   \n",
            " 0   survived     182 non-null    int64   \n",
            " 1   pclass       182 non-null    int64   \n",
            " 2   sex          182 non-null    object  \n",
            " 3   age          182 non-null    float64 \n",
            " 4   sibsp        182 non-null    int64   \n",
            " 5   parch        182 non-null    int64   \n",
            " 6   fare         182 non-null    float64 \n",
            " 7   embarked     182 non-null    object  \n",
            " 8   class        182 non-null    category\n",
            " 9   who          182 non-null    object  \n",
            " 10  adult_male   182 non-null    bool    \n",
            " 11  deck         182 non-null    category\n",
            " 12  embark_town  182 non-null    object  \n",
            " 13  alive        182 non-null    object  \n",
            " 14  alone        182 non-null    bool    \n",
            "dtypes: bool(2), category(2), float64(2), int64(4), object(5)\n",
            "memory usage: 18.2+ KB\n"
          ]
        }
      ]
    },
    {
      "cell_type": "code",
      "source": [
        "import pandas as pd\n",
        "from sklearn.pipeline import make_pipeline\n",
        "from sklearn.preprocessing import StandardScaler, OneHotEncoder\n",
        "train_df = titanic_df.loc[:,:'embarked']\n",
        "X = train_df.drop('survived',axis=1)\n",
        "y = train_df['survived']\n",
        "\n",
        "X = pd.get_dummies(X)\n",
        "X = StandardScaler().fit_transform(X)\n",
        "X.shape, y.shape\n",
        "\n",
        "# 딥러닝 모델 설계\n",
        "import tensorflow as tf\n",
        "input = tf.keras.layers.Input(shape=X.shape[1:])\n",
        "norm = tf.keras.layers.Normalization()\n",
        "h1 = tf.keras.layers.Dense(10,activation='relu')\n",
        "h2 = tf.keras.layers.Dense(10,activation='relu')\n",
        "h3 = tf.keras.layers.Dense(5,activation='relu')\n",
        "output = tf.keras.layers.Dense(1,activation='sigmoid')\n",
        "\n",
        "# 이진분류 : binary_crossentropy\n",
        "# 다중분류\n",
        "  # 정답이 레이블형태면 sparse_category_crossentropy\n",
        "  # 정답이 원핫형태면 category_crossentropy\n",
        "  # 데이터를 원핫으로 변경하고 category_crossentropy  성능이 좀더 좋은 경우가 많음\n",
        "\n",
        "x = input\n",
        "x = norm(x)\n",
        "x = h1(x)\n",
        "x = h2(x)\n",
        "x = h3(x)\n",
        "output = output(x)\n",
        "model = tf.keras.Model(inputs=input,outputs=output)\n",
        "\n",
        "from sklearn.model_selection import train_test_split\n",
        "x_train_full,x_test,y_train_full,y_test= train_test_split(X,y, stratify=y,random_state=42)\n",
        "x_train,x_val,y_train,y_val= train_test_split(x_train_full,y_train_full, stratify=y_train_full,random_state=42)\n",
        "\n",
        "model.compile(loss='binary_crossentropy',optimizer='adam',metrics=['accuracy'])\n",
        "history = model.fit(x_train,y_train,epochs=20,validation_data=(x_val,y_val),verbose=1)"
      ],
      "metadata": {
        "colab": {
          "base_uri": "https://localhost:8080/"
        },
        "collapsed": true,
        "id": "u2YhhBG0j83e",
        "outputId": "5be6cc5d-b50b-4625-c866-59a1a8dde8aa"
      },
      "execution_count": 30,
      "outputs": [
        {
          "output_type": "stream",
          "name": "stdout",
          "text": [
            "Epoch 1/20\n",
            "\u001b[1m4/4\u001b[0m \u001b[32m━━━━━━━━━━━━━━━━━━━━\u001b[0m\u001b[37m\u001b[0m \u001b[1m2s\u001b[0m 79ms/step - accuracy: 0.2264 - loss: 0.7448 - val_accuracy: 0.4118 - val_loss: 0.7169\n",
            "Epoch 2/20\n",
            "\u001b[1m4/4\u001b[0m \u001b[32m━━━━━━━━━━━━━━━━━━━━\u001b[0m\u001b[37m\u001b[0m \u001b[1m0s\u001b[0m 19ms/step - accuracy: 0.2160 - loss: 0.7421 - val_accuracy: 0.4118 - val_loss: 0.7118\n",
            "Epoch 3/20\n",
            "\u001b[1m4/4\u001b[0m \u001b[32m━━━━━━━━━━━━━━━━━━━━\u001b[0m\u001b[37m\u001b[0m \u001b[1m0s\u001b[0m 13ms/step - accuracy: 0.2332 - loss: 0.7299 - val_accuracy: 0.5000 - val_loss: 0.7066\n",
            "Epoch 4/20\n",
            "\u001b[1m4/4\u001b[0m \u001b[32m━━━━━━━━━━━━━━━━━━━━\u001b[0m\u001b[37m\u001b[0m \u001b[1m0s\u001b[0m 18ms/step - accuracy: 0.2934 - loss: 0.7185 - val_accuracy: 0.5000 - val_loss: 0.7017\n",
            "Epoch 5/20\n",
            "\u001b[1m4/4\u001b[0m \u001b[32m━━━━━━━━━━━━━━━━━━━━\u001b[0m\u001b[37m\u001b[0m \u001b[1m0s\u001b[0m 18ms/step - accuracy: 0.3388 - loss: 0.7089 - val_accuracy: 0.5000 - val_loss: 0.6969\n",
            "Epoch 6/20\n",
            "\u001b[1m4/4\u001b[0m \u001b[32m━━━━━━━━━━━━━━━━━━━━\u001b[0m\u001b[37m\u001b[0m \u001b[1m0s\u001b[0m 12ms/step - accuracy: 0.3367 - loss: 0.7039 - val_accuracy: 0.5000 - val_loss: 0.6923\n",
            "Epoch 7/20\n",
            "\u001b[1m4/4\u001b[0m \u001b[32m━━━━━━━━━━━━━━━━━━━━\u001b[0m\u001b[37m\u001b[0m \u001b[1m0s\u001b[0m 12ms/step - accuracy: 0.4267 - loss: 0.7018 - val_accuracy: 0.5294 - val_loss: 0.6877\n",
            "Epoch 8/20\n",
            "\u001b[1m4/4\u001b[0m \u001b[32m━━━━━━━━━━━━━━━━━━━━\u001b[0m\u001b[37m\u001b[0m \u001b[1m0s\u001b[0m 18ms/step - accuracy: 0.5250 - loss: 0.6931 - val_accuracy: 0.5294 - val_loss: 0.6824\n",
            "Epoch 9/20\n",
            "\u001b[1m4/4\u001b[0m \u001b[32m━━━━━━━━━━━━━━━━━━━━\u001b[0m\u001b[37m\u001b[0m \u001b[1m0s\u001b[0m 13ms/step - accuracy: 0.5013 - loss: 0.6961 - val_accuracy: 0.5588 - val_loss: 0.6769\n",
            "Epoch 10/20\n",
            "\u001b[1m4/4\u001b[0m \u001b[32m━━━━━━━━━━━━━━━━━━━━\u001b[0m\u001b[37m\u001b[0m \u001b[1m0s\u001b[0m 12ms/step - accuracy: 0.5736 - loss: 0.6883 - val_accuracy: 0.6471 - val_loss: 0.6700\n",
            "Epoch 11/20\n",
            "\u001b[1m4/4\u001b[0m \u001b[32m━━━━━━━━━━━━━━━━━━━━\u001b[0m\u001b[37m\u001b[0m \u001b[1m0s\u001b[0m 17ms/step - accuracy: 0.6440 - loss: 0.6811 - val_accuracy: 0.6471 - val_loss: 0.6620\n",
            "Epoch 12/20\n",
            "\u001b[1m4/4\u001b[0m \u001b[32m━━━━━━━━━━━━━━━━━━━━\u001b[0m\u001b[37m\u001b[0m \u001b[1m0s\u001b[0m 21ms/step - accuracy: 0.6528 - loss: 0.6668 - val_accuracy: 0.6765 - val_loss: 0.6540\n",
            "Epoch 13/20\n",
            "\u001b[1m4/4\u001b[0m \u001b[32m━━━━━━━━━━━━━━━━━━━━\u001b[0m\u001b[37m\u001b[0m \u001b[1m0s\u001b[0m 12ms/step - accuracy: 0.6424 - loss: 0.6616 - val_accuracy: 0.6765 - val_loss: 0.6467\n",
            "Epoch 14/20\n",
            "\u001b[1m4/4\u001b[0m \u001b[32m━━━━━━━━━━━━━━━━━━━━\u001b[0m\u001b[37m\u001b[0m \u001b[1m0s\u001b[0m 18ms/step - accuracy: 0.6484 - loss: 0.6569 - val_accuracy: 0.6471 - val_loss: 0.6408\n",
            "Epoch 15/20\n",
            "\u001b[1m4/4\u001b[0m \u001b[32m━━━━━━━━━━━━━━━━━━━━\u001b[0m\u001b[37m\u001b[0m \u001b[1m0s\u001b[0m 12ms/step - accuracy: 0.6278 - loss: 0.6531 - val_accuracy: 0.6765 - val_loss: 0.6345\n",
            "Epoch 16/20\n",
            "\u001b[1m4/4\u001b[0m \u001b[32m━━━━━━━━━━━━━━━━━━━━\u001b[0m\u001b[37m\u001b[0m \u001b[1m0s\u001b[0m 12ms/step - accuracy: 0.6682 - loss: 0.6401 - val_accuracy: 0.6765 - val_loss: 0.6277\n",
            "Epoch 17/20\n",
            "\u001b[1m4/4\u001b[0m \u001b[32m━━━━━━━━━━━━━━━━━━━━\u001b[0m\u001b[37m\u001b[0m \u001b[1m0s\u001b[0m 12ms/step - accuracy: 0.7096 - loss: 0.6358 - val_accuracy: 0.6765 - val_loss: 0.6213\n",
            "Epoch 18/20\n",
            "\u001b[1m4/4\u001b[0m \u001b[32m━━━━━━━━━━━━━━━━━━━━\u001b[0m\u001b[37m\u001b[0m \u001b[1m0s\u001b[0m 18ms/step - accuracy: 0.6537 - loss: 0.6423 - val_accuracy: 0.6765 - val_loss: 0.6150\n",
            "Epoch 19/20\n",
            "\u001b[1m4/4\u001b[0m \u001b[32m━━━━━━━━━━━━━━━━━━━━\u001b[0m\u001b[37m\u001b[0m \u001b[1m0s\u001b[0m 12ms/step - accuracy: 0.6886 - loss: 0.6243 - val_accuracy: 0.7059 - val_loss: 0.6087\n",
            "Epoch 20/20\n",
            "\u001b[1m4/4\u001b[0m \u001b[32m━━━━━━━━━━━━━━━━━━━━\u001b[0m\u001b[37m\u001b[0m \u001b[1m0s\u001b[0m 12ms/step - accuracy: 0.7269 - loss: 0.6247 - val_accuracy: 0.6765 - val_loss: 0.6032\n"
          ]
        }
      ]
    },
    {
      "cell_type": "code",
      "source": [
        "model.evaluate(x_test,y_test)"
      ],
      "metadata": {
        "colab": {
          "base_uri": "https://localhost:8080/"
        },
        "id": "7XYIhC7Klr4W",
        "outputId": "c37d59fe-6db9-4f78-e3d0-87505b3410df"
      },
      "execution_count": 32,
      "outputs": [
        {
          "output_type": "stream",
          "name": "stdout",
          "text": [
            "\u001b[1m2/2\u001b[0m \u001b[32m━━━━━━━━━━━━━━━━━━━━\u001b[0m\u001b[37m\u001b[0m \u001b[1m0s\u001b[0m 7ms/step - accuracy: 0.6368 - loss: 0.6589 \n"
          ]
        },
        {
          "output_type": "execute_result",
          "data": {
            "text/plain": [
              "[0.6477403044700623, 0.6739130616188049]"
            ]
          },
          "metadata": {},
          "execution_count": 32
        }
      ]
    },
    {
      "cell_type": "code",
      "source": [
        "result = model.predict(x_test)\n",
        "[ 1 if data >= 0.6 else 0 for data in result  ]\n"
      ],
      "metadata": {
        "colab": {
          "base_uri": "https://localhost:8080/"
        },
        "collapsed": true,
        "id": "mRSoUfKnnRpR",
        "outputId": "e0ac147c-f26a-44bc-f547-66cfdadc3740"
      },
      "execution_count": 38,
      "outputs": [
        {
          "output_type": "stream",
          "name": "stdout",
          "text": [
            "\u001b[1m2/2\u001b[0m \u001b[32m━━━━━━━━━━━━━━━━━━━━\u001b[0m\u001b[37m\u001b[0m \u001b[1m0s\u001b[0m 11ms/step\n"
          ]
        },
        {
          "output_type": "execute_result",
          "data": {
            "text/plain": [
              "[0,\n",
              " 0,\n",
              " 0,\n",
              " 0,\n",
              " 0,\n",
              " 0,\n",
              " 1,\n",
              " 0,\n",
              " 0,\n",
              " 1,\n",
              " 0,\n",
              " 0,\n",
              " 1,\n",
              " 0,\n",
              " 0,\n",
              " 0,\n",
              " 0,\n",
              " 0,\n",
              " 0,\n",
              " 0,\n",
              " 1,\n",
              " 0,\n",
              " 0,\n",
              " 0,\n",
              " 0,\n",
              " 0,\n",
              " 0,\n",
              " 0,\n",
              " 0,\n",
              " 0,\n",
              " 0,\n",
              " 0,\n",
              " 0,\n",
              " 0,\n",
              " 0,\n",
              " 0,\n",
              " 0,\n",
              " 0,\n",
              " 0,\n",
              " 0,\n",
              " 0,\n",
              " 0,\n",
              " 1,\n",
              " 0,\n",
              " 1,\n",
              " 1]"
            ]
          },
          "metadata": {},
          "execution_count": 38
        }
      ]
    },
    {
      "cell_type": "code",
      "source": [
        "# threshold : 임계치는 하이퍼 파라메터 처럼 여러개를 적용해서 accuracy의 값이 가장 큰 경우의 임계를 적용"
      ],
      "metadata": {
        "id": "ENDphT9woOK3"
      },
      "execution_count": null,
      "outputs": []
    }
  ]
}