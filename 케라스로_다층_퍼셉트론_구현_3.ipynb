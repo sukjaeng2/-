{
  "nbformat": 4,
  "nbformat_minor": 0,
  "metadata": {
    "colab": {
      "provenance": [],
      "gpuType": "T4"
    },
    "kernelspec": {
      "name": "python3",
      "display_name": "Python 3"
    },
    "language_info": {
      "name": "python"
    },
    "accelerator": "GPU"
  },
  "cells": [
    {
      "cell_type": "code",
      "execution_count": null,
      "metadata": {
        "id": "FQgziaeHPsxg"
      },
      "outputs": [],
      "source": []
    },
    {
      "cell_type": "markdown",
      "source": [
        "- 데이터 : 캘리포이나 주택 문제"
      ],
      "metadata": {
        "id": "aMZBJ_3mRAXx"
      }
    },
    {
      "cell_type": "code",
      "source": [
        "import tensorflow as tf\n",
        "import pandas as pd\n",
        "import numpy as np\n",
        "import matplotlib.pyplot as plt"
      ],
      "metadata": {
        "id": "P8OVanKLRalB"
      },
      "execution_count": null,
      "outputs": []
    },
    {
      "cell_type": "code",
      "source": [
        "housing = tf.keras.datasets.california_housing.load_data()\n",
        "data = housing[0][0]\n",
        "target = housing[0][1]"
      ],
      "metadata": {
        "id": "1cvVxBBJRZnk"
      },
      "execution_count": 12,
      "outputs": []
    },
    {
      "cell_type": "code",
      "source": [
        "target"
      ],
      "metadata": {
        "id": "fwNQdV3TRyyZ",
        "colab": {
          "base_uri": "https://localhost:8080/"
        },
        "outputId": "9d71ece7-e3aa-4d38-f563-d4f0b11519bd"
      },
      "execution_count": 13,
      "outputs": [
        {
          "output_type": "execute_result",
          "data": {
            "text/plain": [
              "array([252300., 146900., 290900., ..., 500001., 499000., 238100.],\n",
              "      dtype=float32)"
            ]
          },
          "metadata": {},
          "execution_count": 13
        }
      ]
    },
    {
      "cell_type": "code",
      "source": [
        "data.shape"
      ],
      "metadata": {
        "colab": {
          "base_uri": "https://localhost:8080/"
        },
        "id": "mwMx3v-LSvlQ",
        "outputId": "6bdc4076-79fd-4e28-f0d6-e9f7423e6f54"
      },
      "execution_count": 14,
      "outputs": [
        {
          "output_type": "execute_result",
          "data": {
            "text/plain": [
              "(16512, 8)"
            ]
          },
          "metadata": {},
          "execution_count": 14
        }
      ]
    },
    {
      "cell_type": "code",
      "source": [
        "input_wide = tf.keras.layers.Input(shape=[5]) # 5  index : 0~4\n",
        "input_deep = tf.keras.layers.Input(shape=[6]) # 6  index: 2 ~ 7\n",
        "\n",
        "norm_wide_layer =  tf.keras.layers.Normalization()\n",
        "norm_deep_layer = tf.keras.layers.Normalization()\n",
        "\n",
        "h1 = tf.keras.layers.Dense(30,activation=\"relu\")\n",
        "h2 = tf.keras.layers.Dense(30,activation=\"relu\")\n",
        "\n",
        "concat = tf.keras.layers.Concatenate()\n",
        "output = tf.keras.layers.Dense(1)\n",
        "\n",
        "# 결합\n",
        "input_w = input_wide\n",
        "norm_wide = norm_wide_layer(input_w)\n",
        "\n",
        "input_d = input_deep\n",
        "x = norm_deep_layer(input_d)\n",
        "x = h1(x)\n",
        "x = h2(x)\n",
        "con = concat([x,norm_wide])\n",
        "out = output(con)\n",
        "\n",
        "model = tf.keras.Model(inputs=[input_d,input_w],outputs=out)"
      ],
      "metadata": {
        "id": "XlOfVvHIS3Sf"
      },
      "execution_count": 48,
      "outputs": []
    },
    {
      "cell_type": "code",
      "source": [
        "model.summary()"
      ],
      "metadata": {
        "colab": {
          "base_uri": "https://localhost:8080/",
          "height": 481
        },
        "id": "yTpTcxVVVN-L",
        "outputId": "d2cc5dcd-c371-4c42-830c-761a22a9cb97"
      },
      "execution_count": 49,
      "outputs": [
        {
          "output_type": "display_data",
          "data": {
            "text/plain": [
              "\u001b[1mModel: \"functional_5\"\u001b[0m\n"
            ],
            "text/html": [
              "<pre style=\"white-space:pre;overflow-x:auto;line-height:normal;font-family:Menlo,'DejaVu Sans Mono',consolas,'Courier New',monospace\"><span style=\"font-weight: bold\">Model: \"functional_5\"</span>\n",
              "</pre>\n"
            ]
          },
          "metadata": {}
        },
        {
          "output_type": "display_data",
          "data": {
            "text/plain": [
              "┏━━━━━━━━━━━━━━━━━━━━━━━━━━━┳━━━━━━━━━━━━━━━━━━━━━━━━┳━━━━━━━━━━━━━━━━┳━━━━━━━━━━━━━━━━━━━━━━━━┓\n",
              "┃\u001b[1m \u001b[0m\u001b[1mLayer (type)             \u001b[0m\u001b[1m \u001b[0m┃\u001b[1m \u001b[0m\u001b[1mOutput Shape          \u001b[0m\u001b[1m \u001b[0m┃\u001b[1m \u001b[0m\u001b[1m       Param #\u001b[0m\u001b[1m \u001b[0m┃\u001b[1m \u001b[0m\u001b[1mConnected to          \u001b[0m\u001b[1m \u001b[0m┃\n",
              "┡━━━━━━━━━━━━━━━━━━━━━━━━━━━╇━━━━━━━━━━━━━━━━━━━━━━━━╇━━━━━━━━━━━━━━━━╇━━━━━━━━━━━━━━━━━━━━━━━━┩\n",
              "│ input_layer_11            │ (\u001b[38;5;45mNone\u001b[0m, \u001b[38;5;34m6\u001b[0m)              │              \u001b[38;5;34m0\u001b[0m │ -                      │\n",
              "│ (\u001b[38;5;33mInputLayer\u001b[0m)              │                        │                │                        │\n",
              "├───────────────────────────┼────────────────────────┼────────────────┼────────────────────────┤\n",
              "│ normalization_8           │ (\u001b[38;5;45mNone\u001b[0m, \u001b[38;5;34m6\u001b[0m)              │             \u001b[38;5;34m13\u001b[0m │ input_layer_11[\u001b[38;5;34m0\u001b[0m][\u001b[38;5;34m0\u001b[0m]   │\n",
              "│ (\u001b[38;5;33mNormalization\u001b[0m)           │                        │                │                        │\n",
              "├───────────────────────────┼────────────────────────┼────────────────┼────────────────────────┤\n",
              "│ dense_15 (\u001b[38;5;33mDense\u001b[0m)          │ (\u001b[38;5;45mNone\u001b[0m, \u001b[38;5;34m30\u001b[0m)             │            \u001b[38;5;34m210\u001b[0m │ normalization_8[\u001b[38;5;34m0\u001b[0m][\u001b[38;5;34m0\u001b[0m]  │\n",
              "├───────────────────────────┼────────────────────────┼────────────────┼────────────────────────┤\n",
              "│ input_layer_10            │ (\u001b[38;5;45mNone\u001b[0m, \u001b[38;5;34m5\u001b[0m)              │              \u001b[38;5;34m0\u001b[0m │ -                      │\n",
              "│ (\u001b[38;5;33mInputLayer\u001b[0m)              │                        │                │                        │\n",
              "├───────────────────────────┼────────────────────────┼────────────────┼────────────────────────┤\n",
              "│ dense_16 (\u001b[38;5;33mDense\u001b[0m)          │ (\u001b[38;5;45mNone\u001b[0m, \u001b[38;5;34m30\u001b[0m)             │            \u001b[38;5;34m930\u001b[0m │ dense_15[\u001b[38;5;34m0\u001b[0m][\u001b[38;5;34m0\u001b[0m]         │\n",
              "├───────────────────────────┼────────────────────────┼────────────────┼────────────────────────┤\n",
              "│ normalization_7           │ (\u001b[38;5;45mNone\u001b[0m, \u001b[38;5;34m5\u001b[0m)              │             \u001b[38;5;34m11\u001b[0m │ input_layer_10[\u001b[38;5;34m0\u001b[0m][\u001b[38;5;34m0\u001b[0m]   │\n",
              "│ (\u001b[38;5;33mNormalization\u001b[0m)           │                        │                │                        │\n",
              "├───────────────────────────┼────────────────────────┼────────────────┼────────────────────────┤\n",
              "│ concatenate_5             │ (\u001b[38;5;45mNone\u001b[0m, \u001b[38;5;34m35\u001b[0m)             │              \u001b[38;5;34m0\u001b[0m │ dense_16[\u001b[38;5;34m0\u001b[0m][\u001b[38;5;34m0\u001b[0m],        │\n",
              "│ (\u001b[38;5;33mConcatenate\u001b[0m)             │                        │                │ normalization_7[\u001b[38;5;34m0\u001b[0m][\u001b[38;5;34m0\u001b[0m]  │\n",
              "├───────────────────────────┼────────────────────────┼────────────────┼────────────────────────┤\n",
              "│ dense_17 (\u001b[38;5;33mDense\u001b[0m)          │ (\u001b[38;5;45mNone\u001b[0m, \u001b[38;5;34m1\u001b[0m)              │             \u001b[38;5;34m36\u001b[0m │ concatenate_5[\u001b[38;5;34m0\u001b[0m][\u001b[38;5;34m0\u001b[0m]    │\n",
              "└───────────────────────────┴────────────────────────┴────────────────┴────────────────────────┘\n"
            ],
            "text/html": [
              "<pre style=\"white-space:pre;overflow-x:auto;line-height:normal;font-family:Menlo,'DejaVu Sans Mono',consolas,'Courier New',monospace\">┏━━━━━━━━━━━━━━━━━━━━━━━━━━━┳━━━━━━━━━━━━━━━━━━━━━━━━┳━━━━━━━━━━━━━━━━┳━━━━━━━━━━━━━━━━━━━━━━━━┓\n",
              "┃<span style=\"font-weight: bold\"> Layer (type)              </span>┃<span style=\"font-weight: bold\"> Output Shape           </span>┃<span style=\"font-weight: bold\">        Param # </span>┃<span style=\"font-weight: bold\"> Connected to           </span>┃\n",
              "┡━━━━━━━━━━━━━━━━━━━━━━━━━━━╇━━━━━━━━━━━━━━━━━━━━━━━━╇━━━━━━━━━━━━━━━━╇━━━━━━━━━━━━━━━━━━━━━━━━┩\n",
              "│ input_layer_11            │ (<span style=\"color: #00d7ff; text-decoration-color: #00d7ff\">None</span>, <span style=\"color: #00af00; text-decoration-color: #00af00\">6</span>)              │              <span style=\"color: #00af00; text-decoration-color: #00af00\">0</span> │ -                      │\n",
              "│ (<span style=\"color: #0087ff; text-decoration-color: #0087ff\">InputLayer</span>)              │                        │                │                        │\n",
              "├───────────────────────────┼────────────────────────┼────────────────┼────────────────────────┤\n",
              "│ normalization_8           │ (<span style=\"color: #00d7ff; text-decoration-color: #00d7ff\">None</span>, <span style=\"color: #00af00; text-decoration-color: #00af00\">6</span>)              │             <span style=\"color: #00af00; text-decoration-color: #00af00\">13</span> │ input_layer_11[<span style=\"color: #00af00; text-decoration-color: #00af00\">0</span>][<span style=\"color: #00af00; text-decoration-color: #00af00\">0</span>]   │\n",
              "│ (<span style=\"color: #0087ff; text-decoration-color: #0087ff\">Normalization</span>)           │                        │                │                        │\n",
              "├───────────────────────────┼────────────────────────┼────────────────┼────────────────────────┤\n",
              "│ dense_15 (<span style=\"color: #0087ff; text-decoration-color: #0087ff\">Dense</span>)          │ (<span style=\"color: #00d7ff; text-decoration-color: #00d7ff\">None</span>, <span style=\"color: #00af00; text-decoration-color: #00af00\">30</span>)             │            <span style=\"color: #00af00; text-decoration-color: #00af00\">210</span> │ normalization_8[<span style=\"color: #00af00; text-decoration-color: #00af00\">0</span>][<span style=\"color: #00af00; text-decoration-color: #00af00\">0</span>]  │\n",
              "├───────────────────────────┼────────────────────────┼────────────────┼────────────────────────┤\n",
              "│ input_layer_10            │ (<span style=\"color: #00d7ff; text-decoration-color: #00d7ff\">None</span>, <span style=\"color: #00af00; text-decoration-color: #00af00\">5</span>)              │              <span style=\"color: #00af00; text-decoration-color: #00af00\">0</span> │ -                      │\n",
              "│ (<span style=\"color: #0087ff; text-decoration-color: #0087ff\">InputLayer</span>)              │                        │                │                        │\n",
              "├───────────────────────────┼────────────────────────┼────────────────┼────────────────────────┤\n",
              "│ dense_16 (<span style=\"color: #0087ff; text-decoration-color: #0087ff\">Dense</span>)          │ (<span style=\"color: #00d7ff; text-decoration-color: #00d7ff\">None</span>, <span style=\"color: #00af00; text-decoration-color: #00af00\">30</span>)             │            <span style=\"color: #00af00; text-decoration-color: #00af00\">930</span> │ dense_15[<span style=\"color: #00af00; text-decoration-color: #00af00\">0</span>][<span style=\"color: #00af00; text-decoration-color: #00af00\">0</span>]         │\n",
              "├───────────────────────────┼────────────────────────┼────────────────┼────────────────────────┤\n",
              "│ normalization_7           │ (<span style=\"color: #00d7ff; text-decoration-color: #00d7ff\">None</span>, <span style=\"color: #00af00; text-decoration-color: #00af00\">5</span>)              │             <span style=\"color: #00af00; text-decoration-color: #00af00\">11</span> │ input_layer_10[<span style=\"color: #00af00; text-decoration-color: #00af00\">0</span>][<span style=\"color: #00af00; text-decoration-color: #00af00\">0</span>]   │\n",
              "│ (<span style=\"color: #0087ff; text-decoration-color: #0087ff\">Normalization</span>)           │                        │                │                        │\n",
              "├───────────────────────────┼────────────────────────┼────────────────┼────────────────────────┤\n",
              "│ concatenate_5             │ (<span style=\"color: #00d7ff; text-decoration-color: #00d7ff\">None</span>, <span style=\"color: #00af00; text-decoration-color: #00af00\">35</span>)             │              <span style=\"color: #00af00; text-decoration-color: #00af00\">0</span> │ dense_16[<span style=\"color: #00af00; text-decoration-color: #00af00\">0</span>][<span style=\"color: #00af00; text-decoration-color: #00af00\">0</span>],        │\n",
              "│ (<span style=\"color: #0087ff; text-decoration-color: #0087ff\">Concatenate</span>)             │                        │                │ normalization_7[<span style=\"color: #00af00; text-decoration-color: #00af00\">0</span>][<span style=\"color: #00af00; text-decoration-color: #00af00\">0</span>]  │\n",
              "├───────────────────────────┼────────────────────────┼────────────────┼────────────────────────┤\n",
              "│ dense_17 (<span style=\"color: #0087ff; text-decoration-color: #0087ff\">Dense</span>)          │ (<span style=\"color: #00d7ff; text-decoration-color: #00d7ff\">None</span>, <span style=\"color: #00af00; text-decoration-color: #00af00\">1</span>)              │             <span style=\"color: #00af00; text-decoration-color: #00af00\">36</span> │ concatenate_5[<span style=\"color: #00af00; text-decoration-color: #00af00\">0</span>][<span style=\"color: #00af00; text-decoration-color: #00af00\">0</span>]    │\n",
              "└───────────────────────────┴────────────────────────┴────────────────┴────────────────────────┘\n",
              "</pre>\n"
            ]
          },
          "metadata": {}
        },
        {
          "output_type": "display_data",
          "data": {
            "text/plain": [
              "\u001b[1m Total params: \u001b[0m\u001b[38;5;34m1,200\u001b[0m (4.70 KB)\n"
            ],
            "text/html": [
              "<pre style=\"white-space:pre;overflow-x:auto;line-height:normal;font-family:Menlo,'DejaVu Sans Mono',consolas,'Courier New',monospace\"><span style=\"font-weight: bold\"> Total params: </span><span style=\"color: #00af00; text-decoration-color: #00af00\">1,200</span> (4.70 KB)\n",
              "</pre>\n"
            ]
          },
          "metadata": {}
        },
        {
          "output_type": "display_data",
          "data": {
            "text/plain": [
              "\u001b[1m Trainable params: \u001b[0m\u001b[38;5;34m1,176\u001b[0m (4.59 KB)\n"
            ],
            "text/html": [
              "<pre style=\"white-space:pre;overflow-x:auto;line-height:normal;font-family:Menlo,'DejaVu Sans Mono',consolas,'Courier New',monospace\"><span style=\"font-weight: bold\"> Trainable params: </span><span style=\"color: #00af00; text-decoration-color: #00af00\">1,176</span> (4.59 KB)\n",
              "</pre>\n"
            ]
          },
          "metadata": {}
        },
        {
          "output_type": "display_data",
          "data": {
            "text/plain": [
              "\u001b[1m Non-trainable params: \u001b[0m\u001b[38;5;34m24\u001b[0m (104.00 B)\n"
            ],
            "text/html": [
              "<pre style=\"white-space:pre;overflow-x:auto;line-height:normal;font-family:Menlo,'DejaVu Sans Mono',consolas,'Courier New',monospace\"><span style=\"font-weight: bold\"> Non-trainable params: </span><span style=\"color: #00af00; text-decoration-color: #00af00\">24</span> (104.00 B)\n",
              "</pre>\n"
            ]
          },
          "metadata": {}
        }
      ]
    },
    {
      "cell_type": "code",
      "source": [
        "optimizer = tf.keras.optimizers.Adam(learning_rate=0.001)\n",
        "model.compile(loss=\"mse\",optimizer=optimizer,metrics=[\"mae\",\"RootMeanSquaredError\"])"
      ],
      "metadata": {
        "id": "6VX8VrIjVPpi"
      },
      "execution_count": 50,
      "outputs": []
    },
    {
      "cell_type": "code",
      "source": [
        "# 데이터 분할\n",
        "from sklearn.model_selection import train_test_split\n",
        "x_train_full,x_test,y_train_full,y_test = train_test_split(data,target,test_size=0.2,random_state=42)\n",
        "x_train,x_val,y_train,y_val = train_test_split(x_train_full,y_train_full,test_size=0.2,random_state=42)\n",
        "\n",
        "\n",
        "X_wide,y_wide = x_train[:,:5], y_train[:5]  # 0 ~ 4\n",
        "X_deep,y_deep = x_train[:,2:], y_train[2:] # 2 ~7"
      ],
      "metadata": {
        "id": "Gzi-7eoxW6hS"
      },
      "execution_count": 51,
      "outputs": []
    },
    {
      "cell_type": "code",
      "source": [
        "history = model.fit([X_deep,X_wide],y_train,epochs=50,validation_data=([x_val[:,2:],x_val[:,:5]],y_val) )"
      ],
      "metadata": {
        "colab": {
          "base_uri": "https://localhost:8080/"
        },
        "id": "w26kqkGYYMvy",
        "outputId": "a9f49f3c-ec3e-4738-b645-04409a30a0ab"
      },
      "execution_count": 52,
      "outputs": [
        {
          "output_type": "stream",
          "name": "stdout",
          "text": [
            "Epoch 1/50\n",
            "\u001b[1m331/331\u001b[0m \u001b[32m━━━━━━━━━━━━━━━━━━━━\u001b[0m\u001b[37m\u001b[0m \u001b[1m2s\u001b[0m 3ms/step - RootMeanSquaredError: 227369.1562 - loss: 51796545536.0000 - mae: 195295.4062 - val_RootMeanSquaredError: 172120.3750 - val_loss: 29625423872.0000 - val_mae: 124582.2656\n",
            "Epoch 2/50\n",
            "\u001b[1m331/331\u001b[0m \u001b[32m━━━━━━━━━━━━━━━━━━━━\u001b[0m\u001b[37m\u001b[0m \u001b[1m1s\u001b[0m 2ms/step - RootMeanSquaredError: 166883.6562 - loss: 27862173696.0000 - mae: 121504.6406 - val_RootMeanSquaredError: 173004.9062 - val_loss: 29930698752.0000 - val_mae: 122215.2656\n",
            "Epoch 3/50\n",
            "\u001b[1m331/331\u001b[0m \u001b[32m━━━━━━━━━━━━━━━━━━━━\u001b[0m\u001b[37m\u001b[0m \u001b[1m2s\u001b[0m 3ms/step - RootMeanSquaredError: 166530.4062 - loss: 27740356608.0000 - mae: 119925.2109 - val_RootMeanSquaredError: 171816.1406 - val_loss: 29520785408.0000 - val_mae: 122170.2500\n",
            "Epoch 4/50\n",
            "\u001b[1m331/331\u001b[0m \u001b[32m━━━━━━━━━━━━━━━━━━━━\u001b[0m\u001b[37m\u001b[0m \u001b[1m1s\u001b[0m 3ms/step - RootMeanSquaredError: 161976.9062 - loss: 26248992768.0000 - mae: 117022.9219 - val_RootMeanSquaredError: 171460.3594 - val_loss: 29398654976.0000 - val_mae: 121580.8750\n",
            "Epoch 5/50\n",
            "\u001b[1m331/331\u001b[0m \u001b[32m━━━━━━━━━━━━━━━━━━━━\u001b[0m\u001b[37m\u001b[0m \u001b[1m1s\u001b[0m 2ms/step - RootMeanSquaredError: 165955.5469 - loss: 27559813120.0000 - mae: 118814.1641 - val_RootMeanSquaredError: 171244.7656 - val_loss: 29324767232.0000 - val_mae: 120849.1406\n",
            "Epoch 6/50\n",
            "\u001b[1m331/331\u001b[0m \u001b[32m━━━━━━━━━━━━━━━━━━━━\u001b[0m\u001b[37m\u001b[0m \u001b[1m1s\u001b[0m 2ms/step - RootMeanSquaredError: 161637.8125 - loss: 26135719936.0000 - mae: 116146.5391 - val_RootMeanSquaredError: 169762.0156 - val_loss: 28819142656.0000 - val_mae: 120920.9297\n",
            "Epoch 7/50\n",
            "\u001b[1m331/331\u001b[0m \u001b[32m━━━━━━━━━━━━━━━━━━━━\u001b[0m\u001b[37m\u001b[0m \u001b[1m1s\u001b[0m 2ms/step - RootMeanSquaredError: 162299.7031 - loss: 26343841792.0000 - mae: 117494.5859 - val_RootMeanSquaredError: 169519.3125 - val_loss: 28736798720.0000 - val_mae: 119923.0391\n",
            "Epoch 8/50\n",
            "\u001b[1m331/331\u001b[0m \u001b[32m━━━━━━━━━━━━━━━━━━━━\u001b[0m\u001b[37m\u001b[0m \u001b[1m1s\u001b[0m 2ms/step - RootMeanSquaredError: 161010.0156 - loss: 25930727424.0000 - mae: 115674.6094 - val_RootMeanSquaredError: 168703.5312 - val_loss: 28460879872.0000 - val_mae: 119195.4922\n",
            "Epoch 9/50\n",
            "\u001b[1m331/331\u001b[0m \u001b[32m━━━━━━━━━━━━━━━━━━━━\u001b[0m\u001b[37m\u001b[0m \u001b[1m1s\u001b[0m 2ms/step - RootMeanSquaredError: 161625.7812 - loss: 26132189184.0000 - mae: 117532.3906 - val_RootMeanSquaredError: 168541.7969 - val_loss: 28406337536.0000 - val_mae: 118091.7266\n",
            "Epoch 10/50\n",
            "\u001b[1m331/331\u001b[0m \u001b[32m━━━━━━━━━━━━━━━━━━━━\u001b[0m\u001b[37m\u001b[0m \u001b[1m1s\u001b[0m 2ms/step - RootMeanSquaredError: 157876.0781 - loss: 24932761600.0000 - mae: 114208.1953 - val_RootMeanSquaredError: 166446.6875 - val_loss: 27704498176.0000 - val_mae: 117381.2812\n",
            "Epoch 11/50\n",
            "\u001b[1m331/331\u001b[0m \u001b[32m━━━━━━━━━━━━━━━━━━━━\u001b[0m\u001b[37m\u001b[0m \u001b[1m1s\u001b[0m 2ms/step - RootMeanSquaredError: 159170.7344 - loss: 25338996736.0000 - mae: 115082.6641 - val_RootMeanSquaredError: 164545.0156 - val_loss: 27075063808.0000 - val_mae: 116486.8672\n",
            "Epoch 12/50\n",
            "\u001b[1m331/331\u001b[0m \u001b[32m━━━━━━━━━━━━━━━━━━━━\u001b[0m\u001b[37m\u001b[0m \u001b[1m1s\u001b[0m 2ms/step - RootMeanSquaredError: 157339.5938 - loss: 24763086848.0000 - mae: 113432.0859 - val_RootMeanSquaredError: 163981.0000 - val_loss: 26889768960.0000 - val_mae: 114746.4922\n",
            "Epoch 13/50\n",
            "\u001b[1m331/331\u001b[0m \u001b[32m━━━━━━━━━━━━━━━━━━━━\u001b[0m\u001b[37m\u001b[0m \u001b[1m1s\u001b[0m 2ms/step - RootMeanSquaredError: 157714.3750 - loss: 24882345984.0000 - mae: 113000.1172 - val_RootMeanSquaredError: 161450.0000 - val_loss: 26066104320.0000 - val_mae: 113305.7656\n",
            "Epoch 14/50\n",
            "\u001b[1m331/331\u001b[0m \u001b[32m━━━━━━━━━━━━━━━━━━━━\u001b[0m\u001b[37m\u001b[0m \u001b[1m1s\u001b[0m 2ms/step - RootMeanSquaredError: 153805.1562 - loss: 23664488448.0000 - mae: 110099.5469 - val_RootMeanSquaredError: 158150.3594 - val_loss: 25011535872.0000 - val_mae: 111810.2891\n",
            "Epoch 15/50\n",
            "\u001b[1m331/331\u001b[0m \u001b[32m━━━━━━━━━━━━━━━━━━━━\u001b[0m\u001b[37m\u001b[0m \u001b[1m1s\u001b[0m 3ms/step - RootMeanSquaredError: 149099.9844 - loss: 22239143936.0000 - mae: 108060.8984 - val_RootMeanSquaredError: 154824.0312 - val_loss: 23970480128.0000 - val_mae: 109724.1484\n",
            "Epoch 16/50\n",
            "\u001b[1m331/331\u001b[0m \u001b[32m━━━━━━━━━━━━━━━━━━━━\u001b[0m\u001b[37m\u001b[0m \u001b[1m1s\u001b[0m 3ms/step - RootMeanSquaredError: 146067.2031 - loss: 21339381760.0000 - mae: 104833.4766 - val_RootMeanSquaredError: 150913.5781 - val_loss: 22774906880.0000 - val_mae: 107062.6250\n",
            "Epoch 17/50\n",
            "\u001b[1m331/331\u001b[0m \u001b[32m━━━━━━━━━━━━━━━━━━━━\u001b[0m\u001b[37m\u001b[0m \u001b[1m1s\u001b[0m 2ms/step - RootMeanSquaredError: 142043.0469 - loss: 20180211712.0000 - mae: 102672.0703 - val_RootMeanSquaredError: 146561.2500 - val_loss: 21480202240.0000 - val_mae: 103386.2109\n",
            "Epoch 18/50\n",
            "\u001b[1m331/331\u001b[0m \u001b[32m━━━━━━━━━━━━━━━━━━━━\u001b[0m\u001b[37m\u001b[0m \u001b[1m1s\u001b[0m 2ms/step - RootMeanSquaredError: 140288.5469 - loss: 19695839232.0000 - mae: 100874.8672 - val_RootMeanSquaredError: 140019.3125 - val_loss: 19605409792.0000 - val_mae: 99687.6797\n",
            "Epoch 19/50\n",
            "\u001b[1m331/331\u001b[0m \u001b[32m━━━━━━━━━━━━━━━━━━━━\u001b[0m\u001b[37m\u001b[0m \u001b[1m1s\u001b[0m 2ms/step - RootMeanSquaredError: 132299.5000 - loss: 17511319552.0000 - mae: 94485.2422 - val_RootMeanSquaredError: 133161.7656 - val_loss: 17732055040.0000 - val_mae: 95642.6406\n",
            "Epoch 20/50\n",
            "\u001b[1m331/331\u001b[0m \u001b[32m━━━━━━━━━━━━━━━━━━━━\u001b[0m\u001b[37m\u001b[0m \u001b[1m1s\u001b[0m 2ms/step - RootMeanSquaredError: 126077.6250 - loss: 15898777600.0000 - mae: 91535.3203 - val_RootMeanSquaredError: 126085.8828 - val_loss: 15897649152.0000 - val_mae: 91569.5234\n",
            "Epoch 21/50\n",
            "\u001b[1m331/331\u001b[0m \u001b[32m━━━━━━━━━━━━━━━━━━━━\u001b[0m\u001b[37m\u001b[0m \u001b[1m1s\u001b[0m 2ms/step - RootMeanSquaredError: 118873.3516 - loss: 14137113600.0000 - mae: 87208.1016 - val_RootMeanSquaredError: 121091.3516 - val_loss: 14663115776.0000 - val_mae: 87987.6406\n",
            "Epoch 22/50\n",
            "\u001b[1m331/331\u001b[0m \u001b[32m━━━━━━━━━━━━━━━━━━━━\u001b[0m\u001b[37m\u001b[0m \u001b[1m1s\u001b[0m 2ms/step - RootMeanSquaredError: 113680.4922 - loss: 12930367488.0000 - mae: 83537.7969 - val_RootMeanSquaredError: 114861.4219 - val_loss: 13193145344.0000 - val_mae: 85056.4609\n",
            "Epoch 23/50\n",
            "\u001b[1m331/331\u001b[0m \u001b[32m━━━━━━━━━━━━━━━━━━━━\u001b[0m\u001b[37m\u001b[0m \u001b[1m1s\u001b[0m 2ms/step - RootMeanSquaredError: 110015.0234 - loss: 12107046912.0000 - mae: 81978.5391 - val_RootMeanSquaredError: 111561.0625 - val_loss: 12445871104.0000 - val_mae: 83587.5781\n",
            "Epoch 24/50\n",
            "\u001b[1m331/331\u001b[0m \u001b[32m━━━━━━━━━━━━━━━━━━━━\u001b[0m\u001b[37m\u001b[0m \u001b[1m1s\u001b[0m 2ms/step - RootMeanSquaredError: 106279.4453 - loss: 11308980224.0000 - mae: 79970.3203 - val_RootMeanSquaredError: 108794.0625 - val_loss: 11836148736.0000 - val_mae: 82443.1406\n",
            "Epoch 25/50\n",
            "\u001b[1m331/331\u001b[0m \u001b[32m━━━━━━━━━━━━━━━━━━━━\u001b[0m\u001b[37m\u001b[0m \u001b[1m1s\u001b[0m 2ms/step - RootMeanSquaredError: 106733.9531 - loss: 11394240512.0000 - mae: 81401.0391 - val_RootMeanSquaredError: 107880.7656 - val_loss: 11638259712.0000 - val_mae: 82038.6641\n",
            "Epoch 26/50\n",
            "\u001b[1m331/331\u001b[0m \u001b[32m━━━━━━━━━━━━━━━━━━━━\u001b[0m\u001b[37m\u001b[0m \u001b[1m1s\u001b[0m 2ms/step - RootMeanSquaredError: 105730.5469 - loss: 11185401856.0000 - mae: 80655.8438 - val_RootMeanSquaredError: 107467.6641 - val_loss: 11549298688.0000 - val_mae: 81921.0469\n",
            "Epoch 27/50\n",
            "\u001b[1m331/331\u001b[0m \u001b[32m━━━━━━━━━━━━━━━━━━━━\u001b[0m\u001b[37m\u001b[0m \u001b[1m1s\u001b[0m 3ms/step - RootMeanSquaredError: 103501.4375 - loss: 10716075008.0000 - mae: 78610.8516 - val_RootMeanSquaredError: 106096.3594 - val_loss: 11256436736.0000 - val_mae: 80971.1016\n",
            "Epoch 28/50\n",
            "\u001b[1m331/331\u001b[0m \u001b[32m━━━━━━━━━━━━━━━━━━━━\u001b[0m\u001b[37m\u001b[0m \u001b[1m1s\u001b[0m 3ms/step - RootMeanSquaredError: 102148.4531 - loss: 10436152320.0000 - mae: 78402.1094 - val_RootMeanSquaredError: 105577.4375 - val_loss: 11146595328.0000 - val_mae: 80564.0000\n",
            "Epoch 29/50\n",
            "\u001b[1m331/331\u001b[0m \u001b[32m━━━━━━━━━━━━━━━━━━━━\u001b[0m\u001b[37m\u001b[0m \u001b[1m1s\u001b[0m 2ms/step - RootMeanSquaredError: 102264.8906 - loss: 10460312576.0000 - mae: 78904.8906 - val_RootMeanSquaredError: 104771.9062 - val_loss: 10977152000.0000 - val_mae: 79937.7266\n",
            "Epoch 30/50\n",
            "\u001b[1m331/331\u001b[0m \u001b[32m━━━━━━━━━━━━━━━━━━━━\u001b[0m\u001b[37m\u001b[0m \u001b[1m1s\u001b[0m 2ms/step - RootMeanSquaredError: 101659.6328 - loss: 10336384000.0000 - mae: 78212.2109 - val_RootMeanSquaredError: 105381.0781 - val_loss: 11105171456.0000 - val_mae: 80480.1094\n",
            "Epoch 31/50\n",
            "\u001b[1m331/331\u001b[0m \u001b[32m━━━━━━━━━━━━━━━━━━━━\u001b[0m\u001b[37m\u001b[0m \u001b[1m1s\u001b[0m 2ms/step - RootMeanSquaredError: 102125.6562 - loss: 10433554432.0000 - mae: 77925.9609 - val_RootMeanSquaredError: 103474.2969 - val_loss: 10706930688.0000 - val_mae: 78990.2344\n",
            "Epoch 32/50\n",
            "\u001b[1m331/331\u001b[0m \u001b[32m━━━━━━━━━━━━━━━━━━━━\u001b[0m\u001b[37m\u001b[0m \u001b[1m1s\u001b[0m 2ms/step - RootMeanSquaredError: 102256.3516 - loss: 10459915264.0000 - mae: 78338.0234 - val_RootMeanSquaredError: 103371.9062 - val_loss: 10685750272.0000 - val_mae: 79005.9844\n",
            "Epoch 33/50\n",
            "\u001b[1m331/331\u001b[0m \u001b[32m━━━━━━━━━━━━━━━━━━━━\u001b[0m\u001b[37m\u001b[0m \u001b[1m1s\u001b[0m 2ms/step - RootMeanSquaredError: 100416.0781 - loss: 10084874240.0000 - mae: 76856.9375 - val_RootMeanSquaredError: 102122.8047 - val_loss: 10429067264.0000 - val_mae: 77912.3281\n",
            "Epoch 34/50\n",
            "\u001b[1m331/331\u001b[0m \u001b[32m━━━━━━━━━━━━━━━━━━━━\u001b[0m\u001b[37m\u001b[0m \u001b[1m1s\u001b[0m 2ms/step - RootMeanSquaredError: 99616.6719 - loss: 9924645888.0000 - mae: 76718.4062 - val_RootMeanSquaredError: 101527.5078 - val_loss: 10307834880.0000 - val_mae: 77508.6641\n",
            "Epoch 35/50\n",
            "\u001b[1m331/331\u001b[0m \u001b[32m━━━━━━━━━━━━━━━━━━━━\u001b[0m\u001b[37m\u001b[0m \u001b[1m1s\u001b[0m 2ms/step - RootMeanSquaredError: 97975.2891 - loss: 9600250880.0000 - mae: 75149.4688 - val_RootMeanSquaredError: 100825.3672 - val_loss: 10165754880.0000 - val_mae: 76879.5234\n",
            "Epoch 36/50\n",
            "\u001b[1m331/331\u001b[0m \u001b[32m━━━━━━━━━━━━━━━━━━━━\u001b[0m\u001b[37m\u001b[0m \u001b[1m1s\u001b[0m 2ms/step - RootMeanSquaredError: 99466.8516 - loss: 9895548928.0000 - mae: 75877.9375 - val_RootMeanSquaredError: 100153.9453 - val_loss: 10030813184.0000 - val_mae: 76313.8359\n",
            "Epoch 37/50\n",
            "\u001b[1m331/331\u001b[0m \u001b[32m━━━━━━━━━━━━━━━━━━━━\u001b[0m\u001b[37m\u001b[0m \u001b[1m1s\u001b[0m 2ms/step - RootMeanSquaredError: 97384.7500 - loss: 9484455936.0000 - mae: 74794.4297 - val_RootMeanSquaredError: 99893.1172 - val_loss: 9978634240.0000 - val_mae: 76166.7734\n",
            "Epoch 38/50\n",
            "\u001b[1m331/331\u001b[0m \u001b[32m━━━━━━━━━━━━━━━━━━━━\u001b[0m\u001b[37m\u001b[0m \u001b[1m1s\u001b[0m 3ms/step - RootMeanSquaredError: 98642.3125 - loss: 9736027136.0000 - mae: 75114.3828 - val_RootMeanSquaredError: 99598.3359 - val_loss: 9919828992.0000 - val_mae: 75861.1328\n",
            "Epoch 39/50\n",
            "\u001b[1m331/331\u001b[0m \u001b[32m━━━━━━━━━━━━━━━━━━━━\u001b[0m\u001b[37m\u001b[0m \u001b[1m2s\u001b[0m 4ms/step - RootMeanSquaredError: 96233.9766 - loss: 9264198656.0000 - mae: 73731.9688 - val_RootMeanSquaredError: 98126.5547 - val_loss: 9628820480.0000 - val_mae: 74704.7266\n",
            "Epoch 40/50\n",
            "\u001b[1m331/331\u001b[0m \u001b[32m━━━━━━━━━━━━━━━━━━━━\u001b[0m\u001b[37m\u001b[0m \u001b[1m2s\u001b[0m 2ms/step - RootMeanSquaredError: 96433.2969 - loss: 9300979712.0000 - mae: 73990.3750 - val_RootMeanSquaredError: 97528.0703 - val_loss: 9511725056.0000 - val_mae: 74112.0859\n",
            "Epoch 41/50\n",
            "\u001b[1m331/331\u001b[0m \u001b[32m━━━━━━━━━━━━━━━━━━━━\u001b[0m\u001b[37m\u001b[0m \u001b[1m1s\u001b[0m 2ms/step - RootMeanSquaredError: 95054.5703 - loss: 9035937792.0000 - mae: 73033.0547 - val_RootMeanSquaredError: 96726.5469 - val_loss: 9356024832.0000 - val_mae: 73676.1250\n",
            "Epoch 42/50\n",
            "\u001b[1m331/331\u001b[0m \u001b[32m━━━━━━━━━━━━━━━━━━━━\u001b[0m\u001b[37m\u001b[0m \u001b[1m1s\u001b[0m 2ms/step - RootMeanSquaredError: 94857.0703 - loss: 9000169472.0000 - mae: 72357.1406 - val_RootMeanSquaredError: 96896.0781 - val_loss: 9388850176.0000 - val_mae: 73909.9141\n",
            "Epoch 43/50\n",
            "\u001b[1m331/331\u001b[0m \u001b[32m━━━━━━━━━━━━━━━━━━━━\u001b[0m\u001b[37m\u001b[0m \u001b[1m1s\u001b[0m 2ms/step - RootMeanSquaredError: 93172.5859 - loss: 8683019264.0000 - mae: 71342.5547 - val_RootMeanSquaredError: 95495.2891 - val_loss: 9119349760.0000 - val_mae: 72562.4922\n",
            "Epoch 44/50\n",
            "\u001b[1m331/331\u001b[0m \u001b[32m━━━━━━━━━━━━━━━━━━━━\u001b[0m\u001b[37m\u001b[0m \u001b[1m1s\u001b[0m 2ms/step - RootMeanSquaredError: 92303.9609 - loss: 8521995776.0000 - mae: 70759.3438 - val_RootMeanSquaredError: 94770.0781 - val_loss: 8981367808.0000 - val_mae: 71998.0703\n",
            "Epoch 45/50\n",
            "\u001b[1m331/331\u001b[0m \u001b[32m━━━━━━━━━━━━━━━━━━━━\u001b[0m\u001b[37m\u001b[0m \u001b[1m1s\u001b[0m 2ms/step - RootMeanSquaredError: 93287.2891 - loss: 8704277504.0000 - mae: 71204.7266 - val_RootMeanSquaredError: 94552.6641 - val_loss: 8940206080.0000 - val_mae: 72023.9766\n",
            "Epoch 46/50\n",
            "\u001b[1m331/331\u001b[0m \u001b[32m━━━━━━━━━━━━━━━━━━━━\u001b[0m\u001b[37m\u001b[0m \u001b[1m1s\u001b[0m 2ms/step - RootMeanSquaredError: 91881.9922 - loss: 8442790400.0000 - mae: 70598.4453 - val_RootMeanSquaredError: 93586.7031 - val_loss: 8758471680.0000 - val_mae: 71146.8672\n",
            "Epoch 47/50\n",
            "\u001b[1m331/331\u001b[0m \u001b[32m━━━━━━━━━━━━━━━━━━━━\u001b[0m\u001b[37m\u001b[0m \u001b[1m1s\u001b[0m 2ms/step - RootMeanSquaredError: 91437.1719 - loss: 8361455104.0000 - mae: 69874.7734 - val_RootMeanSquaredError: 92899.6172 - val_loss: 8630339584.0000 - val_mae: 70533.3750\n",
            "Epoch 48/50\n",
            "\u001b[1m331/331\u001b[0m \u001b[32m━━━━━━━━━━━━━━━━━━━━\u001b[0m\u001b[37m\u001b[0m \u001b[1m2s\u001b[0m 3ms/step - RootMeanSquaredError: 92137.8359 - loss: 8492539392.0000 - mae: 70319.9062 - val_RootMeanSquaredError: 92445.3047 - val_loss: 8546135040.0000 - val_mae: 70144.9375\n",
            "Epoch 49/50\n",
            "\u001b[1m331/331\u001b[0m \u001b[32m━━━━━━━━━━━━━━━━━━━━\u001b[0m\u001b[37m\u001b[0m \u001b[1m1s\u001b[0m 3ms/step - RootMeanSquaredError: 91051.4141 - loss: 8291443712.0000 - mae: 68960.5156 - val_RootMeanSquaredError: 91678.9688 - val_loss: 8405033472.0000 - val_mae: 69582.1328\n",
            "Epoch 50/50\n",
            "\u001b[1m331/331\u001b[0m \u001b[32m━━━━━━━━━━━━━━━━━━━━\u001b[0m\u001b[37m\u001b[0m \u001b[1m1s\u001b[0m 3ms/step - RootMeanSquaredError: 90212.8359 - loss: 8140515328.0000 - mae: 68984.6406 - val_RootMeanSquaredError: 92980.2812 - val_loss: 8645332992.0000 - val_mae: 70208.1797\n"
          ]
        }
      ]
    },
    {
      "cell_type": "code",
      "source": [
        "plt.plot(history.history[\"loss\"],label='train loss')\n",
        "plt.plot(history.history[\"val_loss\"], label='val loss')\n",
        "plt.legend()\n",
        "plt.show()"
      ],
      "metadata": {
        "colab": {
          "base_uri": "https://localhost:8080/",
          "height": 445
        },
        "id": "I3-Q3gB2c12a",
        "outputId": "f02e6ac9-1584-49f2-b313-51b4baba0ee9"
      },
      "execution_count": 53,
      "outputs": [
        {
          "output_type": "display_data",
          "data": {
            "text/plain": [
              "<Figure size 640x480 with 1 Axes>"
            ],
            "image/png": "[encoded data removed]"
          },
          "metadata": {}
        }
      ]
    },
    {
      "cell_type": "code",
      "source": [
        "# 평가\n",
        "model.evaluate([x_test[:,2:],x_test[:,:5]],y_test)"
      ],
      "metadata": {
        "colab": {
          "base_uri": "https://localhost:8080/"
        },
        "id": "KKYaEEkfdPZS",
        "outputId": "b8eb8b9f-f45f-4e02-a5bd-8f0b7ef46a3a"
      },
      "execution_count": 54,
      "outputs": [
        {
          "output_type": "stream",
          "name": "stdout",
          "text": [
            "\u001b[1m104/104\u001b[0m \u001b[32m━━━━━━━━━━━━━━━━━━━━\u001b[0m\u001b[37m\u001b[0m \u001b[1m0s\u001b[0m 1ms/step - RootMeanSquaredError: 95987.7969 - loss: 9222662144.0000 - mae: 72780.8516\n"
          ]
        },
        {
          "output_type": "execute_result",
          "data": {
            "text/plain": [
              "[8536653312.0, 69554.46875, 92394.0078125]"
            ]
          },
          "metadata": {},
          "execution_count": 54
        }
      ]
    },
    {
      "cell_type": "code",
      "source": [
        "from sklearn.metrics import r2_score\n",
        "y_pred = model.predict([x_test[:,2:],x_test[:,:5]])\n",
        "mse = r2_score(y_test,y_pred)\n",
        "mse"
      ],
      "metadata": {
        "colab": {
          "base_uri": "https://localhost:8080/"
        },
        "id": "T_oFhd6gdf2n",
        "outputId": "8a2f0ce1-5215-44af-e809-b924b10a91f8"
      },
      "execution_count": 55,
      "outputs": [
        {
          "output_type": "stream",
          "name": "stdout",
          "text": [
            "\u001b[1m104/104\u001b[0m \u001b[32m━━━━━━━━━━━━━━━━━━━━\u001b[0m\u001b[37m\u001b[0m \u001b[1m0s\u001b[0m 2ms/step\n"
          ]
        },
        {
          "output_type": "execute_result",
          "data": {
            "text/plain": [
              "0.35142993927001953"
            ]
          },
          "metadata": {},
          "execution_count": 55
        }
      ]
    },
    {
      "cell_type": "code",
      "source": [
        "1e10"
      ],
      "metadata": {
        "colab": {
          "base_uri": "https://localhost:8080/"
        },
        "id": "xWtZg-KFewyq",
        "outputId": "ac0a7e2e-c6d9-481b-971c-88573e7d7d17"
      },
      "execution_count": 56,
      "outputs": [
        {
          "output_type": "execute_result",
          "data": {
            "text/plain": [
              "10000000000.0"
            ]
          },
          "metadata": {},
          "execution_count": 56
        }
      ]
    },
    {
      "cell_type": "markdown",
      "source": [
        "- 다층 퍼셉트론\n",
        "  - 보조출력을 추가"
      ],
      "metadata": {
        "id": "JQoqnD4pfZKQ"
      }
    },
    {
      "cell_type": "code",
      "source": [
        "input_wide = tf.keras.layers.Input(shape=[5]) # 5  index : 0~4\n",
        "input_deep = tf.keras.layers.Input(shape=[6]) # 6  index: 2 ~ 7\n",
        "\n",
        "norm_wide_layer =  tf.keras.layers.Normalization()\n",
        "norm_deep_layer = tf.keras.layers.Normalization()\n",
        "\n",
        "h1 = tf.keras.layers.Dense(30,activation=\"relu\")\n",
        "h2 = tf.keras.layers.Dense(30,activation=\"relu\")\n",
        "\n",
        "concat = tf.keras.layers.Concatenate()\n",
        "output = tf.keras.layers.Dense(1)\n",
        "output_ex = tf.keras.layers.Dense(1)\n",
        "\n",
        "# 결합\n",
        "input_w = input_wide\n",
        "norm_wide = norm_wide_layer(input_w)\n",
        "\n",
        "input_d = input_deep\n",
        "x = norm_deep_layer(input_d)\n",
        "x = h1(x)\n",
        "x = h2(x)\n",
        "con = concat([x,norm_wide])\n",
        "out = output(con)\n",
        "# 보조출력\n",
        "out_ex = output_ex(x)\n",
        "\n",
        "model = tf.keras.Model(inputs=[input_d,input_w],outputs=[out,out_ex])"
      ],
      "metadata": {
        "id": "923s59E5fh14"
      },
      "execution_count": 58,
      "outputs": []
    },
    {
      "cell_type": "code",
      "source": [
        "model.compile(loss=('mse','mse'),loss_weights=(0.9,0.1),optimizer='adam',metrics=[\"mse\",\"RootMeanSquaredError\"])"
      ],
      "metadata": {
        "id": "EaMttM_vf8TR"
      },
      "execution_count": 64,
      "outputs": []
    },
    {
      "cell_type": "code",
      "source": [
        "model.fit([x_train[:,2:],x_train[:,:5]],\n",
        " [y_train,y_train],epochs=50,\n",
        "          validation_data=([x_val[:,2:],x_val[:,:5]],[y_val,y_val])\n",
        "          )"
      ],
      "metadata": {
        "colab": {
          "base_uri": "https://localhost:8080/"
        },
        "id": "mOsrul-Pg1eB",
        "outputId": "500e5ca9-81cd-4ce3-8cb9-af348a2a4cd1"
      },
      "execution_count": 65,
      "outputs": [
        {
          "output_type": "stream",
          "name": "stdout",
          "text": [
            "Epoch 1/50\n",
            "\u001b[1m331/331\u001b[0m \u001b[32m━━━━━━━━━━━━━━━━━━━━\u001b[0m\u001b[37m\u001b[0m \u001b[1m2s\u001b[0m 3ms/step - dense_23_mse: 50748530688.0000 - dense_24_RootMeanSquaredError: 226464.8438 - loss: 50812956672.0000 - val_dense_23_mse: 30548944896.0000 - val_dense_24_RootMeanSquaredError: 172802.6406 - val_loss: 30480128000.0000\n",
            "Epoch 2/50\n",
            "\u001b[1m331/331\u001b[0m \u001b[32m━━━━━━━━━━━━━━━━━━━━\u001b[0m\u001b[37m\u001b[0m \u001b[1m1s\u001b[0m 2ms/step - dense_23_mse: 28435472384.0000 - dense_24_RootMeanSquaredError: 168277.5000 - loss: 28425773056.0000 - val_dense_23_mse: 30090201088.0000 - val_dense_24_RootMeanSquaredError: 173064.4688 - val_loss: 30076315648.0000\n",
            "Epoch 3/50\n",
            "\u001b[1m331/331\u001b[0m \u001b[32m━━━━━━━━━━━━━━━━━━━━\u001b[0m\u001b[37m\u001b[0m \u001b[1m1s\u001b[0m 4ms/step - dense_23_mse: 26643009536.0000 - dense_24_RootMeanSquaredError: 163263.7500 - loss: 26644801536.0000 - val_dense_23_mse: 29505994752.0000 - val_dense_24_RootMeanSquaredError: 171767.1094 - val_loss: 29505787904.0000\n",
            "Epoch 4/50\n",
            "\u001b[1m331/331\u001b[0m \u001b[32m━━━━━━━━━━━━━━━━━━━━\u001b[0m\u001b[37m\u001b[0m \u001b[1m2s\u001b[0m 2ms/step - dense_23_mse: 26886502400.0000 - dense_24_RootMeanSquaredError: 164013.3594 - loss: 26888398848.0000 - val_dense_23_mse: 29134626816.0000 - val_dense_24_RootMeanSquaredError: 170767.5938 - val_loss: 29137321984.0000\n",
            "Epoch 5/50\n",
            "\u001b[1m331/331\u001b[0m \u001b[32m━━━━━━━━━━━━━━━━━━━━\u001b[0m\u001b[37m\u001b[0m \u001b[1m1s\u001b[0m 2ms/step - dense_23_mse: 26423865344.0000 - dense_24_RootMeanSquaredError: 162594.8125 - loss: 26426703872.0000 - val_dense_23_mse: 28930895872.0000 - val_dense_24_RootMeanSquaredError: 170209.5156 - val_loss: 28934938624.0000\n",
            "Epoch 6/50\n",
            "\u001b[1m331/331\u001b[0m \u001b[32m━━━━━━━━━━━━━━━━━━━━\u001b[0m\u001b[37m\u001b[0m \u001b[1m1s\u001b[0m 2ms/step - dense_23_mse: 26880212992.0000 - dense_24_RootMeanSquaredError: 164064.2344 - loss: 26884333568.0000 - val_dense_23_mse: 28586127360.0000 - val_dense_24_RootMeanSquaredError: 169233.5625 - val_loss: 28591509504.0000\n",
            "Epoch 7/50\n",
            "\u001b[1m331/331\u001b[0m \u001b[32m━━━━━━━━━━━━━━━━━━━━\u001b[0m\u001b[37m\u001b[0m \u001b[1m1s\u001b[0m 2ms/step - dense_23_mse: 26529193984.0000 - dense_24_RootMeanSquaredError: 163001.7812 - loss: 26534338560.0000 - val_dense_23_mse: 28126478336.0000 - val_dense_24_RootMeanSquaredError: 167909.6094 - val_loss: 28133191680.0000\n",
            "Epoch 8/50\n",
            "\u001b[1m331/331\u001b[0m \u001b[32m━━━━━━━━━━━━━━━━━━━━\u001b[0m\u001b[37m\u001b[0m \u001b[1m1s\u001b[0m 2ms/step - dense_23_mse: 24736077824.0000 - dense_24_RootMeanSquaredError: 157423.3438 - loss: 24741681152.0000 - val_dense_23_mse: 27135406080.0000 - val_dense_24_RootMeanSquaredError: 164974.3906 - val_loss: 27143526400.0000\n",
            "Epoch 9/50\n",
            "\u001b[1m331/331\u001b[0m \u001b[32m━━━━━━━━━━━━━━━━━━━━\u001b[0m\u001b[37m\u001b[0m \u001b[1m1s\u001b[0m 2ms/step - dense_23_mse: 24694503424.0000 - dense_24_RootMeanSquaredError: 157351.9375 - loss: 24701460480.0000 - val_dense_23_mse: 26661812224.0000 - val_dense_24_RootMeanSquaredError: 163585.3125 - val_loss: 26671646720.0000\n",
            "Epoch 10/50\n",
            "\u001b[1m331/331\u001b[0m \u001b[32m━━━━━━━━━━━━━━━━━━━━\u001b[0m\u001b[37m\u001b[0m \u001b[1m1s\u001b[0m 2ms/step - dense_23_mse: 24110200832.0000 - dense_24_RootMeanSquaredError: 155518.5938 - loss: 24118433792.0000 - val_dense_23_mse: 25708328960.0000 - val_dense_24_RootMeanSquaredError: 160697.6719 - val_loss: 25719871488.0000\n",
            "Epoch 11/50\n",
            "\u001b[1m331/331\u001b[0m \u001b[32m━━━━━━━━━━━━━━━━━━━━\u001b[0m\u001b[37m\u001b[0m \u001b[1m1s\u001b[0m 2ms/step - dense_23_mse: 23090860032.0000 - dense_24_RootMeanSquaredError: 152233.6406 - loss: 23101007872.0000 - val_dense_23_mse: 24552718336.0000 - val_dense_24_RootMeanSquaredError: 157155.0938 - val_loss: 24567214080.0000\n",
            "Epoch 12/50\n",
            "\u001b[1m331/331\u001b[0m \u001b[32m━━━━━━━━━━━━━━━━━━━━\u001b[0m\u001b[37m\u001b[0m \u001b[1m1s\u001b[0m 2ms/step - dense_23_mse: 22136647680.0000 - dense_24_RootMeanSquaredError: 149212.4219 - loss: 22150170624.0000 - val_dense_23_mse: 23341756416.0000 - val_dense_24_RootMeanSquaredError: 153330.3594 - val_loss: 23358603264.0000\n",
            "Epoch 13/50\n",
            "\u001b[1m331/331\u001b[0m \u001b[32m━━━━━━━━━━━━━━━━━━━━\u001b[0m\u001b[37m\u001b[0m \u001b[1m2s\u001b[0m 3ms/step - dense_23_mse: 20569403392.0000 - dense_24_RootMeanSquaredError: 143982.7500 - loss: 20586092544.0000 - val_dense_23_mse: 21461450752.0000 - val_dense_24_RootMeanSquaredError: 147244.6406 - val_loss: 21483403264.0000\n",
            "Epoch 14/50\n",
            "\u001b[1m331/331\u001b[0m \u001b[32m━━━━━━━━━━━━━━━━━━━━\u001b[0m\u001b[37m\u001b[0m \u001b[1m1s\u001b[0m 4ms/step - dense_23_mse: 19275716608.0000 - dense_24_RootMeanSquaredError: 139550.3906 - loss: 19296514048.0000 - val_dense_23_mse: 19281620992.0000 - val_dense_24_RootMeanSquaredError: 139709.0781 - val_loss: 19305320448.0000\n",
            "Epoch 15/50\n",
            "\u001b[1m331/331\u001b[0m \u001b[32m━━━━━━━━━━━━━━━━━━━━\u001b[0m\u001b[37m\u001b[0m \u001b[1m1s\u001b[0m 3ms/step - dense_23_mse: 17112909824.0000 - dense_24_RootMeanSquaredError: 131636.3750 - loss: 17134747648.0000 - val_dense_23_mse: 16861993984.0000 - val_dense_24_RootMeanSquaredError: 130748.7109 - val_loss: 16885319680.0000\n",
            "Epoch 16/50\n",
            "\u001b[1m331/331\u001b[0m \u001b[32m━━━━━━━━━━━━━━━━━━━━\u001b[0m\u001b[37m\u001b[0m \u001b[1m1s\u001b[0m 2ms/step - dense_23_mse: 15401139200.0000 - dense_24_RootMeanSquaredError: 124826.7656 - loss: 15420988416.0000 - val_dense_23_mse: 14780468224.0000 - val_dense_24_RootMeanSquaredError: 122310.6484 - val_loss: 14798409728.0000\n",
            "Epoch 17/50\n",
            "\u001b[1m331/331\u001b[0m \u001b[32m━━━━━━━━━━━━━━━━━━━━\u001b[0m\u001b[37m\u001b[0m \u001b[1m1s\u001b[0m 2ms/step - dense_23_mse: 14000728064.0000 - dense_24_RootMeanSquaredError: 118978.7969 - loss: 14016986112.0000 - val_dense_23_mse: 13556769792.0000 - val_dense_24_RootMeanSquaredError: 116917.4141 - val_loss: 13568063488.0000\n",
            "Epoch 18/50\n",
            "\u001b[1m331/331\u001b[0m \u001b[32m━━━━━━━━━━━━━━━━━━━━\u001b[0m\u001b[37m\u001b[0m \u001b[1m1s\u001b[0m 2ms/step - dense_23_mse: 12216622080.0000 - dense_24_RootMeanSquaredError: 110931.1406 - loss: 12225636352.0000 - val_dense_23_mse: 12406755328.0000 - val_dense_24_RootMeanSquaredError: 111711.5312 - val_loss: 12414023680.0000\n",
            "Epoch 19/50\n",
            "\u001b[1m331/331\u001b[0m \u001b[32m━━━━━━━━━━━━━━━━━━━━\u001b[0m\u001b[37m\u001b[0m \u001b[1m1s\u001b[0m 2ms/step - dense_23_mse: 11414785024.0000 - dense_24_RootMeanSquaredError: 107067.5312 - loss: 11419808768.0000 - val_dense_23_mse: 11984349184.0000 - val_dense_24_RootMeanSquaredError: 109673.5156 - val_loss: 11988742144.0000\n",
            "Epoch 20/50\n",
            "\u001b[1m331/331\u001b[0m \u001b[32m━━━━━━━━━━━━━━━━━━━━\u001b[0m\u001b[37m\u001b[0m \u001b[1m1s\u001b[0m 2ms/step - dense_23_mse: 11285135360.0000 - dense_24_RootMeanSquaredError: 106333.8281 - loss: 11287443456.0000 - val_dense_23_mse: 11709700096.0000 - val_dense_24_RootMeanSquaredError: 108349.2812 - val_loss: 11712689152.0000\n",
            "Epoch 21/50\n",
            "\u001b[1m331/331\u001b[0m \u001b[32m━━━━━━━━━━━━━━━━━━━━\u001b[0m\u001b[37m\u001b[0m \u001b[1m1s\u001b[0m 2ms/step - dense_23_mse: 11211631616.0000 - dense_24_RootMeanSquaredError: 105972.2188 - loss: 11213673472.0000 - val_dense_23_mse: 11489643520.0000 - val_dense_24_RootMeanSquaredError: 107287.2812 - val_loss: 11491734528.0000\n",
            "Epoch 22/50\n",
            "\u001b[1m331/331\u001b[0m \u001b[32m━━━━━━━━━━━━━━━━━━━━\u001b[0m\u001b[37m\u001b[0m \u001b[1m1s\u001b[0m 2ms/step - dense_23_mse: 10737961984.0000 - dense_24_RootMeanSquaredError: 103651.5234 - loss: 10738866176.0000 - val_dense_23_mse: 11566368768.0000 - val_dense_24_RootMeanSquaredError: 107573.8828 - val_loss: 11566948352.0000\n",
            "Epoch 23/50\n",
            "\u001b[1m331/331\u001b[0m \u001b[32m━━━━━━━━━━━━━━━━━━━━\u001b[0m\u001b[37m\u001b[0m \u001b[1m1s\u001b[0m 2ms/step - dense_23_mse: 10828371968.0000 - dense_24_RootMeanSquaredError: 104081.5391 - loss: 10829028352.0000 - val_dense_23_mse: 11200890880.0000 - val_dense_24_RootMeanSquaredError: 105920.4844 - val_loss: 11202715648.0000\n",
            "Epoch 24/50\n",
            "\u001b[1m331/331\u001b[0m \u001b[32m━━━━━━━━━━━━━━━━━━━━\u001b[0m\u001b[37m\u001b[0m \u001b[1m1s\u001b[0m 2ms/step - dense_23_mse: 10236097536.0000 - dense_24_RootMeanSquaredError: 101137.7969 - loss: 10236378112.0000 - val_dense_23_mse: 11050652672.0000 - val_dense_24_RootMeanSquaredError: 105193.2266 - val_loss: 11052150784.0000\n",
            "Epoch 25/50\n",
            "\u001b[1m331/331\u001b[0m \u001b[32m━━━━━━━━━━━━━━━━━━━━\u001b[0m\u001b[37m\u001b[0m \u001b[1m1s\u001b[0m 3ms/step - dense_23_mse: 10591656960.0000 - dense_24_RootMeanSquaredError: 102941.0547 - loss: 10592410624.0000 - val_dense_23_mse: 11094768640.0000 - val_dense_24_RootMeanSquaredError: 105350.1406 - val_loss: 11095158784.0000\n",
            "Epoch 26/50\n",
            "\u001b[1m331/331\u001b[0m \u001b[32m━━━━━━━━━━━━━━━━━━━━\u001b[0m\u001b[37m\u001b[0m \u001b[1m1s\u001b[0m 4ms/step - dense_23_mse: 10514519040.0000 - dense_24_RootMeanSquaredError: 102561.1797 - loss: 10515332096.0000 - val_dense_23_mse: 10799308800.0000 - val_dense_24_RootMeanSquaredError: 103998.2344 - val_loss: 10800942080.0000\n",
            "Epoch 27/50\n",
            "\u001b[1m331/331\u001b[0m \u001b[32m━━━━━━━━━━━━━━━━━━━━\u001b[0m\u001b[37m\u001b[0m \u001b[1m1s\u001b[0m 3ms/step - dense_23_mse: 10117857280.0000 - dense_24_RootMeanSquaredError: 100597.9844 - loss: 10118334464.0000 - val_dense_23_mse: 10603759616.0000 - val_dense_24_RootMeanSquaredError: 103020.5000 - val_loss: 10604703744.0000\n",
            "Epoch 28/50\n",
            "\u001b[1m331/331\u001b[0m \u001b[32m━━━━━━━━━━━━━━━━━━━━\u001b[0m\u001b[37m\u001b[0m \u001b[1m1s\u001b[0m 2ms/step - dense_23_mse: 10195279872.0000 - dense_24_RootMeanSquaredError: 100991.0547 - loss: 10195962880.0000 - val_dense_23_mse: 10464754688.0000 - val_dense_24_RootMeanSquaredError: 102346.8750 - val_loss: 10465768448.0000\n",
            "Epoch 29/50\n",
            "\u001b[1m331/331\u001b[0m \u001b[32m━━━━━━━━━━━━━━━━━━━━\u001b[0m\u001b[37m\u001b[0m \u001b[1m1s\u001b[0m 2ms/step - dense_23_mse: 10063121408.0000 - dense_24_RootMeanSquaredError: 100342.2578 - loss: 10063826944.0000 - val_dense_23_mse: 10581351424.0000 - val_dense_24_RootMeanSquaredError: 102890.2109 - val_loss: 10581856256.0000\n",
            "Epoch 30/50\n",
            "\u001b[1m331/331\u001b[0m \u001b[32m━━━━━━━━━━━━━━━━━━━━\u001b[0m\u001b[37m\u001b[0m \u001b[1m1s\u001b[0m 2ms/step - dense_23_mse: 9619521536.0000 - dense_24_RootMeanSquaredError: 98111.9219 - loss: 9620274176.0000 - val_dense_23_mse: 10392714240.0000 - val_dense_24_RootMeanSquaredError: 102025.1641 - val_loss: 10394356736.0000\n",
            "Epoch 31/50\n",
            "\u001b[1m331/331\u001b[0m \u001b[32m━━━━━━━━━━━━━━━━━━━━\u001b[0m\u001b[37m\u001b[0m \u001b[1m1s\u001b[0m 2ms/step - dense_23_mse: 9970056192.0000 - dense_24_RootMeanSquaredError: 99877.5312 - loss: 9970780160.0000 - val_dense_23_mse: 10147766272.0000 - val_dense_24_RootMeanSquaredError: 100762.6875 - val_loss: 10148298752.0000\n",
            "Epoch 32/50\n",
            "\u001b[1m331/331\u001b[0m \u001b[32m━━━━━━━━━━━━━━━━━━━━\u001b[0m\u001b[37m\u001b[0m \u001b[1m1s\u001b[0m 2ms/step - dense_23_mse: 9714809856.0000 - dense_24_RootMeanSquaredError: 98551.6797 - loss: 9714991104.0000 - val_dense_23_mse: 9934835712.0000 - val_dense_24_RootMeanSquaredError: 99705.7500 - val_loss: 9935477760.0000\n",
            "Epoch 33/50\n",
            "\u001b[1m331/331\u001b[0m \u001b[32m━━━━━━━━━━━━━━━━━━━━\u001b[0m\u001b[37m\u001b[0m \u001b[1m1s\u001b[0m 2ms/step - dense_23_mse: 9415842816.0000 - dense_24_RootMeanSquaredError: 97040.2500 - loss: 9416208384.0000 - val_dense_23_mse: 9835885568.0000 - val_dense_24_RootMeanSquaredError: 99218.9062 - val_loss: 9836735488.0000\n",
            "Epoch 34/50\n",
            "\u001b[1m331/331\u001b[0m \u001b[32m━━━━━━━━━━━━━━━━━━━━\u001b[0m\u001b[37m\u001b[0m \u001b[1m1s\u001b[0m 2ms/step - dense_23_mse: 9539009536.0000 - dense_24_RootMeanSquaredError: 97683.3047 - loss: 9539727360.0000 - val_dense_23_mse: 9668995072.0000 - val_dense_24_RootMeanSquaredError: 98369.5234 - val_loss: 9669749760.0000\n",
            "Epoch 35/50\n",
            "\u001b[1m331/331\u001b[0m \u001b[32m━━━━━━━━━━━━━━━━━━━━\u001b[0m\u001b[37m\u001b[0m \u001b[1m1s\u001b[0m 2ms/step - dense_23_mse: 9378588672.0000 - dense_24_RootMeanSquaredError: 96865.3984 - loss: 9379173376.0000 - val_dense_23_mse: 9597897728.0000 - val_dense_24_RootMeanSquaredError: 98019.0078 - val_loss: 9598880768.0000\n",
            "Epoch 36/50\n",
            "\u001b[1m331/331\u001b[0m \u001b[32m━━━━━━━━━━━━━━━━━━━━\u001b[0m\u001b[37m\u001b[0m \u001b[1m1s\u001b[0m 2ms/step - dense_23_mse: 9158670336.0000 - dense_24_RootMeanSquaredError: 95709.3906 - loss: 9158989824.0000 - val_dense_23_mse: 9486062592.0000 - val_dense_24_RootMeanSquaredError: 97419.8359 - val_loss: 9486518272.0000\n",
            "Epoch 37/50\n",
            "\u001b[1m331/331\u001b[0m \u001b[32m━━━━━━━━━━━━━━━━━━━━\u001b[0m\u001b[37m\u001b[0m \u001b[1m1s\u001b[0m 3ms/step - dense_23_mse: 8800435200.0000 - dense_24_RootMeanSquaredError: 93802.8906 - loss: 8800668672.0000 - val_dense_23_mse: 9313532928.0000 - val_dense_24_RootMeanSquaredError: 96515.5469 - val_loss: 9313704960.0000\n",
            "Epoch 38/50\n",
            "\u001b[1m331/331\u001b[0m \u001b[32m━━━━━━━━━━━━━━━━━━━━\u001b[0m\u001b[37m\u001b[0m \u001b[1m1s\u001b[0m 4ms/step - dense_23_mse: 9061495808.0000 - dense_24_RootMeanSquaredError: 95154.6484 - loss: 9061596160.0000 - val_dense_23_mse: 9230704640.0000 - val_dense_24_RootMeanSquaredError: 96085.5156 - val_loss: 9230877696.0000\n",
            "Epoch 39/50\n",
            "\u001b[1m331/331\u001b[0m \u001b[32m━━━━━━━━━━━━━━━━━━━━\u001b[0m\u001b[37m\u001b[0m \u001b[1m1s\u001b[0m 3ms/step - dense_23_mse: 8802752512.0000 - dense_24_RootMeanSquaredError: 93811.2266 - loss: 8802917376.0000 - val_dense_23_mse: 9204606976.0000 - val_dense_24_RootMeanSquaredError: 95953.9688 - val_loss: 9204861952.0000\n",
            "Epoch 40/50\n",
            "\u001b[1m331/331\u001b[0m \u001b[32m━━━━━━━━━━━━━━━━━━━━\u001b[0m\u001b[37m\u001b[0m \u001b[1m1s\u001b[0m 2ms/step - dense_23_mse: 8715538432.0000 - dense_24_RootMeanSquaredError: 93350.2734 - loss: 8715600896.0000 - val_dense_23_mse: 8921290752.0000 - val_dense_24_RootMeanSquaredError: 94473.2422 - val_loss: 8921678848.0000\n",
            "Epoch 41/50\n",
            "\u001b[1m331/331\u001b[0m \u001b[32m━━━━━━━━━━━━━━━━━━━━\u001b[0m\u001b[37m\u001b[0m \u001b[1m1s\u001b[0m 2ms/step - dense_23_mse: 8764398592.0000 - dense_24_RootMeanSquaredError: 93633.5234 - loss: 8764788736.0000 - val_dense_23_mse: 8779153408.0000 - val_dense_24_RootMeanSquaredError: 93743.2969 - val_loss: 8780020736.0000\n",
            "Epoch 42/50\n",
            "\u001b[1m331/331\u001b[0m \u001b[32m━━━━━━━━━━━━━━━━━━━━\u001b[0m\u001b[37m\u001b[0m \u001b[1m1s\u001b[0m 2ms/step - dense_23_mse: 8566809600.0000 - dense_24_RootMeanSquaredError: 92576.3438 - loss: 8567292928.0000 - val_dense_23_mse: 8965222400.0000 - val_dense_24_RootMeanSquaredError: 94746.5391 - val_loss: 8966390784.0000\n",
            "Epoch 43/50\n",
            "\u001b[1m331/331\u001b[0m \u001b[32m━━━━━━━━━━━━━━━━━━━━\u001b[0m\u001b[37m\u001b[0m \u001b[1m1s\u001b[0m 2ms/step - dense_23_mse: 8574831104.0000 - dense_24_RootMeanSquaredError: 92626.3438 - loss: 8575560192.0000 - val_dense_23_mse: 8723846144.0000 - val_dense_24_RootMeanSquaredError: 93411.1484 - val_loss: 8724023296.0000\n",
            "Epoch 44/50\n",
            "\u001b[1m331/331\u001b[0m \u001b[32m━━━━━━━━━━━━━━━━━━━━\u001b[0m\u001b[37m\u001b[0m \u001b[1m1s\u001b[0m 2ms/step - dense_23_mse: 8423779840.0000 - dense_24_RootMeanSquaredError: 91769.0781 - loss: 8424268288.0000 - val_dense_23_mse: 8434665984.0000 - val_dense_24_RootMeanSquaredError: 91862.5469 - val_loss: 8435073024.0000\n",
            "Epoch 45/50\n",
            "\u001b[1m331/331\u001b[0m \u001b[32m━━━━━━━━━━━━━━━━━━━━\u001b[0m\u001b[37m\u001b[0m \u001b[1m1s\u001b[0m 2ms/step - dense_23_mse: 8074482688.0000 - dense_24_RootMeanSquaredError: 89869.2031 - loss: 8074876416.0000 - val_dense_23_mse: 8440729600.0000 - val_dense_24_RootMeanSquaredError: 91903.6016 - val_loss: 8441286144.0000\n",
            "Epoch 46/50\n",
            "\u001b[1m331/331\u001b[0m \u001b[32m━━━━━━━━━━━━━━━━━━━━\u001b[0m\u001b[37m\u001b[0m \u001b[1m1s\u001b[0m 2ms/step - dense_23_mse: 8095845376.0000 - dense_24_RootMeanSquaredError: 89986.6406 - loss: 8096133120.0000 - val_dense_23_mse: 8196636672.0000 - val_dense_24_RootMeanSquaredError: 90535.4609 - val_loss: 8196638208.0000\n",
            "Epoch 47/50\n",
            "\u001b[1m331/331\u001b[0m \u001b[32m━━━━━━━━━━━━━━━━━━━━\u001b[0m\u001b[37m\u001b[0m \u001b[1m1s\u001b[0m 2ms/step - dense_23_mse: 8182017536.0000 - dense_24_RootMeanSquaredError: 90455.0703 - loss: 8182656000.0000 - val_dense_23_mse: 8239725056.0000 - val_dense_24_RootMeanSquaredError: 90885.9219 - val_loss: 8241777152.0000\n",
            "Epoch 48/50\n",
            "\u001b[1m331/331\u001b[0m \u001b[32m━━━━━━━━━━━━━━━━━━━━\u001b[0m\u001b[37m\u001b[0m \u001b[1m1s\u001b[0m 2ms/step - dense_23_mse: 7679598080.0000 - dense_24_RootMeanSquaredError: 87654.8281 - loss: 7680335360.0000 - val_dense_23_mse: 8015469056.0000 - val_dense_24_RootMeanSquaredError: 89541.4922 - val_loss: 8015690240.0000\n",
            "Epoch 49/50\n",
            "\u001b[1m331/331\u001b[0m \u001b[32m━━━━━━━━━━━━━━━━━━━━\u001b[0m\u001b[37m\u001b[0m \u001b[1m1s\u001b[0m 3ms/step - dense_23_mse: 7554553856.0000 - dense_24_RootMeanSquaredError: 86951.4766 - loss: 7555379200.0000 - val_dense_23_mse: 8005303808.0000 - val_dense_24_RootMeanSquaredError: 89557.7734 - val_loss: 8006833664.0000\n",
            "Epoch 50/50\n",
            "\u001b[1m331/331\u001b[0m \u001b[32m━━━━━━━━━━━━━━━━━━━━\u001b[0m\u001b[37m\u001b[0m \u001b[1m1s\u001b[0m 3ms/step - dense_23_mse: 7629975040.0000 - dense_24_RootMeanSquaredError: 87361.2578 - loss: 7630464512.0000 - val_dense_23_mse: 7685098496.0000 - val_dense_24_RootMeanSquaredError: 87717.4922 - val_loss: 7686023168.0000\n"
          ]
        },
        {
          "output_type": "execute_result",
          "data": {
            "text/plain": [
              "<keras.src.callbacks.history.History at 0x7c889108ffa0>"
            ]
          },
          "metadata": {},
          "execution_count": 65
        }
      ]
    },
    {
      "cell_type": "code",
      "source": [
        "model.evaluate([x_test[:,2:],x_test[:,:5]],[y_test,y_test])"
      ],
      "metadata": {
        "colab": {
          "base_uri": "https://localhost:8080/"
        },
        "id": "FGola_BzhA2x",
        "outputId": "24aeef15-f5da-4376-c237-fded7529984a"
      },
      "execution_count": 66,
      "outputs": [
        {
          "output_type": "stream",
          "name": "stdout",
          "text": [
            "\u001b[1m104/104\u001b[0m \u001b[32m━━━━━━━━━━━━━━━━━━━━\u001b[0m\u001b[37m\u001b[0m \u001b[1m0s\u001b[0m 3ms/step - dense_23_mse: 8224753152.0000 - dense_24_RootMeanSquaredError: 90737.8672 - loss: 8226352128.0000\n"
          ]
        },
        {
          "output_type": "execute_result",
          "data": {
            "text/plain": [
              "[7699966976.0, 7698736640.0, 87812.609375]"
            ]
          },
          "metadata": {},
          "execution_count": 66
        }
      ]
    },
    {
      "cell_type": "code",
      "source": [
        "r2_score(y_test,model.predict([x_test[:,2:],x_test[:,:5]])[0])"
      ],
      "metadata": {
        "colab": {
          "base_uri": "https://localhost:8080/"
        },
        "id": "RgzE999mh_ii",
        "outputId": "938d8d85-e90e-4ccc-c8ff-f427c9bc5410"
      },
      "execution_count": 67,
      "outputs": [
        {
          "output_type": "stream",
          "name": "stdout",
          "text": [
            "\u001b[1m104/104\u001b[0m \u001b[32m━━━━━━━━━━━━━━━━━━━━\u001b[0m\u001b[37m\u001b[0m \u001b[1m0s\u001b[0m 2ms/step\n"
          ]
        },
        {
          "output_type": "execute_result",
          "data": {
            "text/plain": [
              "0.41509050130844116"
            ]
          },
          "metadata": {},
          "execution_count": 67
        }
      ]
    },
    {
      "cell_type": "markdown",
      "source": [
        "일반 deep 러닝과 비교"
      ],
      "metadata": {
        "id": "AyPOtdGLiNcj"
      }
    },
    {
      "cell_type": "code",
      "source": [
        "input = tf.keras.layers.Input(shape=[8])\n",
        "norm =  tf.keras.layers.Normalization()\n",
        "\n",
        "h1 = tf.keras.layers.Dense(30,activation=\"relu\")\n",
        "h2 = tf.keras.layers.Dense(30,activation=\"relu\")\n",
        "out = tf.keras.layers.Dense(1)\n",
        "\n",
        "# 결합\n",
        "input = input\n",
        "x = norm(input)\n",
        "x = h1(x)\n",
        "x = h2(x)\n",
        "output = out(x)\n",
        "model = tf.keras.Model(inputs=input,outputs=output)\n",
        "\n",
        "model.compile(loss='mse',optimizer='adam',metrics=[\"RootMeanSquaredError\"])\n",
        "history = model.fit(x_train,y_train,epochs=50,validation_data=(x_val,y_val))"
      ],
      "metadata": {
        "colab": {
          "base_uri": "https://localhost:8080/"
        },
        "collapsed": true,
        "id": "agTMBYRliPlk",
        "outputId": "bb312fe9-0564-44f4-cf93-aa088a0d8cb2"
      },
      "execution_count": 68,
      "outputs": [
        {
          "output_type": "stream",
          "name": "stdout",
          "text": [
            "Epoch 1/50\n",
            "\u001b[1m331/331\u001b[0m \u001b[32m━━━━━━━━━━━━━━━━━━━━\u001b[0m\u001b[37m\u001b[0m \u001b[1m3s\u001b[0m 3ms/step - RootMeanSquaredError: 221822.8438 - loss: 49369796608.0000 - val_RootMeanSquaredError: 169991.7656 - val_loss: 28897202176.0000\n",
            "Epoch 2/50\n",
            "\u001b[1m331/331\u001b[0m \u001b[32m━━━━━━━━━━━━━━━━━━━━\u001b[0m\u001b[37m\u001b[0m \u001b[1m1s\u001b[0m 2ms/step - RootMeanSquaredError: 161376.3594 - loss: 26046953472.0000 - val_RootMeanSquaredError: 166747.0938 - val_loss: 27804594176.0000\n",
            "Epoch 3/50\n",
            "\u001b[1m331/331\u001b[0m \u001b[32m━━━━━━━━━━━━━━━━━━━━\u001b[0m\u001b[37m\u001b[0m \u001b[1m1s\u001b[0m 2ms/step - RootMeanSquaredError: 155331.1875 - loss: 24131500032.0000 - val_RootMeanSquaredError: 161156.3594 - val_loss: 25971374080.0000\n",
            "Epoch 4/50\n",
            "\u001b[1m331/331\u001b[0m \u001b[32m━━━━━━━━━━━━━━━━━━━━\u001b[0m\u001b[37m\u001b[0m \u001b[1m1s\u001b[0m 2ms/step - RootMeanSquaredError: 154679.6719 - loss: 23938058240.0000 - val_RootMeanSquaredError: 155668.3281 - val_loss: 24232628224.0000\n",
            "Epoch 5/50\n",
            "\u001b[1m331/331\u001b[0m \u001b[32m━━━━━━━━━━━━━━━━━━━━\u001b[0m\u001b[37m\u001b[0m \u001b[1m1s\u001b[0m 2ms/step - RootMeanSquaredError: 147734.3906 - loss: 21831241728.0000 - val_RootMeanSquaredError: 147127.3125 - val_loss: 21646446592.0000\n",
            "Epoch 6/50\n",
            "\u001b[1m331/331\u001b[0m \u001b[32m━━━━━━━━━━━━━━━━━━━━\u001b[0m\u001b[37m\u001b[0m \u001b[1m1s\u001b[0m 2ms/step - RootMeanSquaredError: 138793.5156 - loss: 19277608960.0000 - val_RootMeanSquaredError: 136671.4062 - val_loss: 18679074816.0000\n",
            "Epoch 7/50\n",
            "\u001b[1m331/331\u001b[0m \u001b[32m━━━━━━━━━━━━━━━━━━━━\u001b[0m\u001b[37m\u001b[0m \u001b[1m1s\u001b[0m 2ms/step - RootMeanSquaredError: 132987.7031 - loss: 17726812160.0000 - val_RootMeanSquaredError: 125686.9219 - val_loss: 15797201920.0000\n",
            "Epoch 8/50\n",
            "\u001b[1m331/331\u001b[0m \u001b[32m━━━━━━━━━━━━━━━━━━━━\u001b[0m\u001b[37m\u001b[0m \u001b[1m1s\u001b[0m 2ms/step - RootMeanSquaredError: 118461.5859 - loss: 14038098944.0000 - val_RootMeanSquaredError: 115080.1250 - val_loss: 13243435008.0000\n",
            "Epoch 9/50\n",
            "\u001b[1m331/331\u001b[0m \u001b[32m━━━━━━━━━━━━━━━━━━━━\u001b[0m\u001b[37m\u001b[0m \u001b[1m1s\u001b[0m 2ms/step - RootMeanSquaredError: 110553.8203 - loss: 12230307840.0000 - val_RootMeanSquaredError: 109151.3828 - val_loss: 11914024960.0000\n",
            "Epoch 10/50\n",
            "\u001b[1m331/331\u001b[0m \u001b[32m━━━━━━━━━━━━━━━━━━━━\u001b[0m\u001b[37m\u001b[0m \u001b[1m1s\u001b[0m 2ms/step - RootMeanSquaredError: 108123.2578 - loss: 11692274688.0000 - val_RootMeanSquaredError: 107152.4375 - val_loss: 11481645056.0000\n",
            "Epoch 11/50\n",
            "\u001b[1m331/331\u001b[0m \u001b[32m━━━━━━━━━━━━━━━━━━━━\u001b[0m\u001b[37m\u001b[0m \u001b[1m1s\u001b[0m 2ms/step - RootMeanSquaredError: 104400.5547 - loss: 10901257216.0000 - val_RootMeanSquaredError: 106243.9453 - val_loss: 11287776256.0000\n",
            "Epoch 12/50\n",
            "\u001b[1m331/331\u001b[0m \u001b[32m━━━━━━━━━━━━━━━━━━━━\u001b[0m\u001b[37m\u001b[0m \u001b[1m1s\u001b[0m 2ms/step - RootMeanSquaredError: 104962.1953 - loss: 11019666432.0000 - val_RootMeanSquaredError: 105470.5703 - val_loss: 11124040704.0000\n",
            "Epoch 13/50\n",
            "\u001b[1m331/331\u001b[0m \u001b[32m━━━━━━━━━━━━━━━━━━━━\u001b[0m\u001b[37m\u001b[0m \u001b[1m1s\u001b[0m 2ms/step - RootMeanSquaredError: 103220.8359 - loss: 10656198656.0000 - val_RootMeanSquaredError: 104876.1250 - val_loss: 10999002112.0000\n",
            "Epoch 14/50\n",
            "\u001b[1m331/331\u001b[0m \u001b[32m━━━━━━━━━━━━━━━━━━━━\u001b[0m\u001b[37m\u001b[0m \u001b[1m1s\u001b[0m 2ms/step - RootMeanSquaredError: 103492.2500 - loss: 10711888896.0000 - val_RootMeanSquaredError: 104284.7266 - val_loss: 10875303936.0000\n",
            "Epoch 15/50\n",
            "\u001b[1m331/331\u001b[0m \u001b[32m━━━━━━━━━━━━━━━━━━━━\u001b[0m\u001b[37m\u001b[0m \u001b[1m1s\u001b[0m 3ms/step - RootMeanSquaredError: 102358.3750 - loss: 10478628864.0000 - val_RootMeanSquaredError: 103723.6406 - val_loss: 10758593536.0000\n",
            "Epoch 16/50\n",
            "\u001b[1m331/331\u001b[0m \u001b[32m━━━━━━━━━━━━━━━━━━━━\u001b[0m\u001b[37m\u001b[0m \u001b[1m1s\u001b[0m 2ms/step - RootMeanSquaredError: 101592.7500 - loss: 10322053120.0000 - val_RootMeanSquaredError: 103271.6484 - val_loss: 10665032704.0000\n",
            "Epoch 17/50\n",
            "\u001b[1m331/331\u001b[0m \u001b[32m━━━━━━━━━━━━━━━━━━━━\u001b[0m\u001b[37m\u001b[0m \u001b[1m1s\u001b[0m 2ms/step - RootMeanSquaredError: 102172.2734 - loss: 10440407040.0000 - val_RootMeanSquaredError: 103385.7812 - val_loss: 10688620544.0000\n",
            "Epoch 18/50\n",
            "\u001b[1m331/331\u001b[0m \u001b[32m━━━━━━━━━━━━━━━━━━━━\u001b[0m\u001b[37m\u001b[0m \u001b[1m1s\u001b[0m 2ms/step - RootMeanSquaredError: 101218.4766 - loss: 10246272000.0000 - val_RootMeanSquaredError: 102287.5703 - val_loss: 10462747648.0000\n",
            "Epoch 19/50\n",
            "\u001b[1m331/331\u001b[0m \u001b[32m━━━━━━━━━━━━━━━━━━━━\u001b[0m\u001b[37m\u001b[0m \u001b[1m1s\u001b[0m 2ms/step - RootMeanSquaredError: 100902.2422 - loss: 10182510592.0000 - val_RootMeanSquaredError: 101921.9453 - val_loss: 10388083712.0000\n",
            "Epoch 20/50\n",
            "\u001b[1m331/331\u001b[0m \u001b[32m━━━━━━━━━━━━━━━━━━━━\u001b[0m\u001b[37m\u001b[0m \u001b[1m1s\u001b[0m 2ms/step - RootMeanSquaredError: 99948.0938 - loss: 9991405568.0000 - val_RootMeanSquaredError: 100883.5781 - val_loss: 10177497088.0000\n",
            "Epoch 21/50\n",
            "\u001b[1m331/331\u001b[0m \u001b[32m━━━━━━━━━━━━━━━━━━━━\u001b[0m\u001b[37m\u001b[0m \u001b[1m1s\u001b[0m 2ms/step - RootMeanSquaredError: 101161.1406 - loss: 10239367168.0000 - val_RootMeanSquaredError: 100329.3984 - val_loss: 10065987584.0000\n",
            "Epoch 22/50\n",
            "\u001b[1m331/331\u001b[0m \u001b[32m━━━━━━━━━━━━━━━━━━━━\u001b[0m\u001b[37m\u001b[0m \u001b[1m1s\u001b[0m 2ms/step - RootMeanSquaredError: 100018.4219 - loss: 10005827584.0000 - val_RootMeanSquaredError: 99832.8906 - val_loss: 9966605312.0000\n",
            "Epoch 23/50\n",
            "\u001b[1m331/331\u001b[0m \u001b[32m━━━━━━━━━━━━━━━━━━━━\u001b[0m\u001b[37m\u001b[0m \u001b[1m1s\u001b[0m 2ms/step - RootMeanSquaredError: 99286.6250 - loss: 9861030912.0000 - val_RootMeanSquaredError: 99225.3047 - val_loss: 9845660672.0000\n",
            "Epoch 24/50\n",
            "\u001b[1m331/331\u001b[0m \u001b[32m━━━━━━━━━━━━━━━━━━━━\u001b[0m\u001b[37m\u001b[0m \u001b[1m1s\u001b[0m 2ms/step - RootMeanSquaredError: 97905.6172 - loss: 9587153920.0000 - val_RootMeanSquaredError: 98786.2500 - val_loss: 9758723072.0000\n",
            "Epoch 25/50\n",
            "\u001b[1m331/331\u001b[0m \u001b[32m━━━━━━━━━━━━━━━━━━━━\u001b[0m\u001b[37m\u001b[0m \u001b[1m1s\u001b[0m 2ms/step - RootMeanSquaredError: 97188.8359 - loss: 9448224768.0000 - val_RootMeanSquaredError: 98015.8672 - val_loss: 9607109632.0000\n",
            "Epoch 26/50\n",
            "\u001b[1m331/331\u001b[0m \u001b[32m━━━━━━━━━━━━━━━━━━━━\u001b[0m\u001b[37m\u001b[0m \u001b[1m1s\u001b[0m 2ms/step - RootMeanSquaredError: 97466.3516 - loss: 9504623616.0000 - val_RootMeanSquaredError: 98296.9688 - val_loss: 9662294016.0000\n",
            "Epoch 27/50\n",
            "\u001b[1m331/331\u001b[0m \u001b[32m━━━━━━━━━━━━━━━━━━━━\u001b[0m\u001b[37m\u001b[0m \u001b[1m1s\u001b[0m 2ms/step - RootMeanSquaredError: 97099.6250 - loss: 9433638912.0000 - val_RootMeanSquaredError: 96621.1953 - val_loss: 9335655424.0000\n",
            "Epoch 28/50\n",
            "\u001b[1m331/331\u001b[0m \u001b[32m━━━━━━━━━━━━━━━━━━━━\u001b[0m\u001b[37m\u001b[0m \u001b[1m1s\u001b[0m 2ms/step - RootMeanSquaredError: 95373.7656 - loss: 9096836096.0000 - val_RootMeanSquaredError: 96086.1719 - val_loss: 9232551936.0000\n",
            "Epoch 29/50\n",
            "\u001b[1m331/331\u001b[0m \u001b[32m━━━━━━━━━━━━━━━━━━━━\u001b[0m\u001b[37m\u001b[0m \u001b[1m1s\u001b[0m 3ms/step - RootMeanSquaredError: 95811.4062 - loss: 9180752896.0000 - val_RootMeanSquaredError: 95631.4531 - val_loss: 9145374720.0000\n",
            "Epoch 30/50\n",
            "\u001b[1m331/331\u001b[0m \u001b[32m━━━━━━━━━━━━━━━━━━━━\u001b[0m\u001b[37m\u001b[0m \u001b[1m2s\u001b[0m 5ms/step - RootMeanSquaredError: 94479.4297 - loss: 8927124480.0000 - val_RootMeanSquaredError: 94761.3750 - val_loss: 8979718144.0000\n",
            "Epoch 31/50\n",
            "\u001b[1m331/331\u001b[0m \u001b[32m━━━━━━━━━━━━━━━━━━━━\u001b[0m\u001b[37m\u001b[0m \u001b[1m2s\u001b[0m 2ms/step - RootMeanSquaredError: 93615.3438 - loss: 8764725248.0000 - val_RootMeanSquaredError: 94178.2422 - val_loss: 8869540864.0000\n",
            "Epoch 32/50\n",
            "\u001b[1m331/331\u001b[0m \u001b[32m━━━━━━━━━━━━━━━━━━━━\u001b[0m\u001b[37m\u001b[0m \u001b[1m1s\u001b[0m 2ms/step - RootMeanSquaredError: 93593.3750 - loss: 8760761344.0000 - val_RootMeanSquaredError: 93710.2969 - val_loss: 8781620224.0000\n",
            "Epoch 33/50\n",
            "\u001b[1m331/331\u001b[0m \u001b[32m━━━━━━━━━━━━━━━━━━━━\u001b[0m\u001b[37m\u001b[0m \u001b[1m1s\u001b[0m 2ms/step - RootMeanSquaredError: 93112.9609 - loss: 8670454784.0000 - val_RootMeanSquaredError: 93197.6016 - val_loss: 8685793280.0000\n",
            "Epoch 34/50\n",
            "\u001b[1m331/331\u001b[0m \u001b[32m━━━━━━━━━━━━━━━━━━━━\u001b[0m\u001b[37m\u001b[0m \u001b[1m1s\u001b[0m 2ms/step - RootMeanSquaredError: 92834.2422 - loss: 8618954752.0000 - val_RootMeanSquaredError: 92406.9141 - val_loss: 8539037184.0000\n",
            "Epoch 35/50\n",
            "\u001b[1m331/331\u001b[0m \u001b[32m━━━━━━━━━━━━━━━━━━━━\u001b[0m\u001b[37m\u001b[0m \u001b[1m1s\u001b[0m 2ms/step - RootMeanSquaredError: 92144.4453 - loss: 8492177920.0000 - val_RootMeanSquaredError: 92363.8906 - val_loss: 8531088896.0000\n",
            "Epoch 36/50\n",
            "\u001b[1m331/331\u001b[0m \u001b[32m━━━━━━━━━━━━━━━━━━━━\u001b[0m\u001b[37m\u001b[0m \u001b[1m1s\u001b[0m 2ms/step - RootMeanSquaredError: 92542.7656 - loss: 8568730624.0000 - val_RootMeanSquaredError: 91766.3750 - val_loss: 8421067776.0000\n",
            "Epoch 37/50\n",
            "\u001b[1m331/331\u001b[0m \u001b[32m━━━━━━━━━━━━━━━━━━━━\u001b[0m\u001b[37m\u001b[0m \u001b[1m1s\u001b[0m 2ms/step - RootMeanSquaredError: 91463.8125 - loss: 8366978048.0000 - val_RootMeanSquaredError: 90738.5547 - val_loss: 8233484800.0000\n",
            "Epoch 38/50\n",
            "\u001b[1m331/331\u001b[0m \u001b[32m━━━━━━━━━━━━━━━━━━━━\u001b[0m\u001b[37m\u001b[0m \u001b[1m1s\u001b[0m 2ms/step - RootMeanSquaredError: 89038.0469 - loss: 7931258368.0000 - val_RootMeanSquaredError: 90975.6875 - val_loss: 8276575232.0000\n",
            "Epoch 39/50\n",
            "\u001b[1m331/331\u001b[0m \u001b[32m━━━━━━━━━━━━━━━━━━━━\u001b[0m\u001b[37m\u001b[0m \u001b[1m1s\u001b[0m 2ms/step - RootMeanSquaredError: 91070.6719 - loss: 8295466496.0000 - val_RootMeanSquaredError: 90332.2969 - val_loss: 8159924224.0000\n",
            "Epoch 40/50\n",
            "\u001b[1m331/331\u001b[0m \u001b[32m━━━━━━━━━━━━━━━━━━━━\u001b[0m\u001b[37m\u001b[0m \u001b[1m1s\u001b[0m 2ms/step - RootMeanSquaredError: 89603.5312 - loss: 8029403648.0000 - val_RootMeanSquaredError: 89477.4844 - val_loss: 8006219776.0000\n",
            "Epoch 41/50\n",
            "\u001b[1m331/331\u001b[0m \u001b[32m━━━━━━━━━━━━━━━━━━━━\u001b[0m\u001b[37m\u001b[0m \u001b[1m2s\u001b[0m 3ms/step - RootMeanSquaredError: 89298.8438 - loss: 7976987136.0000 - val_RootMeanSquaredError: 89921.7969 - val_loss: 8085928960.0000\n",
            "Epoch 42/50\n",
            "\u001b[1m331/331\u001b[0m \u001b[32m━━━━━━━━━━━━━━━━━━━━\u001b[0m\u001b[37m\u001b[0m \u001b[1m1s\u001b[0m 3ms/step - RootMeanSquaredError: 89437.8125 - loss: 8001267200.0000 - val_RootMeanSquaredError: 89072.6875 - val_loss: 7933944320.0000\n",
            "Epoch 43/50\n",
            "\u001b[1m331/331\u001b[0m \u001b[32m━━━━━━━━━━━━━━━━━━━━\u001b[0m\u001b[37m\u001b[0m \u001b[1m1s\u001b[0m 2ms/step - RootMeanSquaredError: 89276.4375 - loss: 7973336064.0000 - val_RootMeanSquaredError: 88639.4922 - val_loss: 7856959488.0000\n",
            "Epoch 44/50\n",
            "\u001b[1m331/331\u001b[0m \u001b[32m━━━━━━━━━━━━━━━━━━━━\u001b[0m\u001b[37m\u001b[0m \u001b[1m2s\u001b[0m 4ms/step - RootMeanSquaredError: 88387.0859 - loss: 7813060608.0000 - val_RootMeanSquaredError: 88027.3047 - val_loss: 7748806656.0000\n",
            "Epoch 45/50\n",
            "\u001b[1m331/331\u001b[0m \u001b[32m━━━━━━━━━━━━━━━━━━━━\u001b[0m\u001b[37m\u001b[0m \u001b[1m1s\u001b[0m 2ms/step - RootMeanSquaredError: 88183.0469 - loss: 7777061888.0000 - val_RootMeanSquaredError: 87951.0312 - val_loss: 7735384064.0000\n",
            "Epoch 46/50\n",
            "\u001b[1m331/331\u001b[0m \u001b[32m━━━━━━━━━━━━━━━━━━━━\u001b[0m\u001b[37m\u001b[0m \u001b[1m1s\u001b[0m 2ms/step - RootMeanSquaredError: 87788.3281 - loss: 7708939264.0000 - val_RootMeanSquaredError: 87821.8203 - val_loss: 7712672768.0000\n",
            "Epoch 47/50\n",
            "\u001b[1m331/331\u001b[0m \u001b[32m━━━━━━━━━━━━━━━━━━━━\u001b[0m\u001b[37m\u001b[0m \u001b[1m1s\u001b[0m 2ms/step - RootMeanSquaredError: 87523.3359 - loss: 7661413376.0000 - val_RootMeanSquaredError: 87344.2578 - val_loss: 7629019136.0000\n",
            "Epoch 48/50\n",
            "\u001b[1m331/331\u001b[0m \u001b[32m━━━━━━━━━━━━━━━━━━━━\u001b[0m\u001b[37m\u001b[0m \u001b[1m1s\u001b[0m 2ms/step - RootMeanSquaredError: 85379.5234 - loss: 7291882496.0000 - val_RootMeanSquaredError: 86733.1641 - val_loss: 7522641408.0000\n",
            "Epoch 49/50\n",
            "\u001b[1m331/331\u001b[0m \u001b[32m━━━━━━━━━━━━━━━━━━━━\u001b[0m\u001b[37m\u001b[0m \u001b[1m1s\u001b[0m 2ms/step - RootMeanSquaredError: 87022.2891 - loss: 7573547008.0000 - val_RootMeanSquaredError: 86484.8281 - val_loss: 7479625728.0000\n",
            "Epoch 50/50\n",
            "\u001b[1m331/331\u001b[0m \u001b[32m━━━━━━━━━━━━━━━━━━━━\u001b[0m\u001b[37m\u001b[0m \u001b[1m1s\u001b[0m 2ms/step - RootMeanSquaredError: 86093.3594 - loss: 7412897792.0000 - val_RootMeanSquaredError: 86217.5469 - val_loss: 7433465344.0000\n"
          ]
        }
      ]
    },
    {
      "cell_type": "code",
      "source": [
        "r2_score(y_test,model.predict(x_test))"
      ],
      "metadata": {
        "colab": {
          "base_uri": "https://localhost:8080/"
        },
        "id": "FM53SmSfi15L",
        "outputId": "0b476ddb-83e1-4de3-ba83-0be3b4c5d7c0"
      },
      "execution_count": 69,
      "outputs": [
        {
          "output_type": "stream",
          "name": "stdout",
          "text": [
            "\u001b[1m104/104\u001b[0m \u001b[32m━━━━━━━━━━━━━━━━━━━━\u001b[0m\u001b[37m\u001b[0m \u001b[1m1s\u001b[0m 5ms/step\n"
          ]
        },
        {
          "output_type": "execute_result",
          "data": {
            "text/plain": [
              "0.43667954206466675"
            ]
          },
          "metadata": {},
          "execution_count": 69
        }
      ]
    },
    {
      "cell_type": "markdown",
      "source": [
        "- 체크포인트 & 조기종료\n",
        "  - 조기종료는 학습이 더이상 효과가 없을때 종료\n",
        "  - 체크포인트 매학습마다 가중치를 조사해서 최상의 가중치를 저장"
      ],
      "metadata": {
        "id": "66f-j3s3jh2o"
      }
    },
    {
      "cell_type": "code",
      "source": [
        "import tensorflow as tf\n",
        "import pandas as pd\n",
        "import numpy as np\n",
        "import matplotlib.pyplot as plt\n",
        "from sklearn.model_selection import train_test_split\n",
        "fmnist = tf.keras.datasets.fashion_mnist.load_data()\n",
        "X = fmnist[0][0]\n",
        "y = fmnist[0][1]\n",
        "x_train_full,x_test,y_train_full,y_test = train_test_split(X,y,test_size=0.2,random_state=42)\n",
        "x_train,x_val,y_train,y_val = train_test_split(x_train_full,y_train_full,test_size=0.2,random_state=42)"
      ],
      "metadata": {
        "collapsed": true,
        "id": "hFA3i15wkJXI"
      },
      "execution_count": 2,
      "outputs": []
    },
    {
      "cell_type": "code",
      "source": [
        "X.shape, y.shape"
      ],
      "metadata": {
        "colab": {
          "base_uri": "https://localhost:8080/"
        },
        "id": "uZ9d1Kkqi3kb",
        "outputId": "ce6bb1f0-9a8a-4ad1-d74e-3f0018c0e645"
      },
      "execution_count": 3,
      "outputs": [
        {
          "output_type": "execute_result",
          "data": {
            "text/plain": [
              "((60000, 28, 28), (60000,))"
            ]
          },
          "metadata": {},
          "execution_count": 3
        }
      ]
    },
    {
      "cell_type": "code",
      "source": [
        "# 층을 설계\n",
        "input = tf.keras.layers.Input(shape=X.shape[1:]) #(28,28)\n",
        "norm =  tf.keras.layers.Normalization()\n",
        "flatten = tf.keras.layers.Flatten()\n",
        "h1 = tf.keras.layers.Dense(30,activation=\"relu\")\n",
        "h2 = tf.keras.layers.Dense(30,activation=\"relu\")\n",
        "out = tf.keras.layers.Dense(10,activation=\"softmax\")\n",
        "\n",
        "# 결합\n",
        "input = input\n",
        "x = norm(input)\n",
        "x = flatten(x)\n",
        "x = h1(x)\n",
        "x = h2(x)\n",
        "output = out(x)\n",
        "model = tf.keras.Model(inputs=input,outputs=output)\n",
        "# 컴파일\n",
        "model.compile(loss='sparse_categorical_crossentropy',optimizer='adam',metrics=[\"accuracy\"])\n",
        "# 콜백\n",
        "checkpoint_cb = tf.keras.callbacks.ModelCheckpoint(\"my_keras_model.keras\",save_best_only=True)\n",
        "early_stopping_cb = tf.keras.callbacks.EarlyStopping(patience=5,restore_best_weights=True)\n",
        "\n",
        "# 학습\n",
        "model.fit(x_train,y_train,epochs=5000,validation_data=(x_val,y_val),callbacks=[checkpoint_cb,early_stopping_cb])\n",
        "# 모델불러오기\n",
        "best_model = tf.keras.models.load_model(\"my_keras_model.keras\")\n",
        "# 모델 평가\n",
        "best_model.evaluate(x_test,y_test)"
      ],
      "metadata": {
        "colab": {
          "base_uri": "https://localhost:8080/"
        },
        "id": "dhygzN1OnCkZ",
        "outputId": "06d1c1a3-f70e-424c-e11f-e79fee13f2d9"
      },
      "execution_count": 5,
      "outputs": [
        {
          "output_type": "stream",
          "name": "stdout",
          "text": [
            "Epoch 1/5000\n",
            "\u001b[1m1200/1200\u001b[0m \u001b[32m━━━━━━━━━━━━━━━━━━━━\u001b[0m\u001b[37m\u001b[0m \u001b[1m4s\u001b[0m 2ms/step - accuracy: 0.4203 - loss: 6.9212 - val_accuracy: 0.6285 - val_loss: 1.0277\n",
            "Epoch 2/5000\n",
            "\u001b[1m1200/1200\u001b[0m \u001b[32m━━━━━━━━━━━━━━━━━━━━\u001b[0m\u001b[37m\u001b[0m \u001b[1m3s\u001b[0m 2ms/step - accuracy: 0.6722 - loss: 0.8849 - val_accuracy: 0.7015 - val_loss: 0.7650\n",
            "Epoch 3/5000\n",
            "\u001b[1m1200/1200\u001b[0m \u001b[32m━━━━━━━━━━━━━━━━━━━━\u001b[0m\u001b[37m\u001b[0m \u001b[1m5s\u001b[0m 2ms/step - accuracy: 0.6939 - loss: 0.7570 - val_accuracy: 0.6999 - val_loss: 0.7999\n",
            "Epoch 4/5000\n",
            "\u001b[1m1200/1200\u001b[0m \u001b[32m━━━━━━━━━━━━━━━━━━━━\u001b[0m\u001b[37m\u001b[0m \u001b[1m3s\u001b[0m 2ms/step - accuracy: 0.6942 - loss: 0.7519 - val_accuracy: 0.7131 - val_loss: 0.7210\n",
            "Epoch 5/5000\n",
            "\u001b[1m1200/1200\u001b[0m \u001b[32m━━━━━━━━━━━━━━━━━━━━\u001b[0m\u001b[37m\u001b[0m \u001b[1m3s\u001b[0m 2ms/step - accuracy: 0.7093 - loss: 0.7225 - val_accuracy: 0.7145 - val_loss: 0.7139\n",
            "Epoch 6/5000\n",
            "\u001b[1m1200/1200\u001b[0m \u001b[32m━━━━━━━━━━━━━━━━━━━━\u001b[0m\u001b[37m\u001b[0m \u001b[1m6s\u001b[0m 2ms/step - accuracy: 0.7180 - loss: 0.6878 - val_accuracy: 0.7269 - val_loss: 0.6747\n",
            "Epoch 7/5000\n",
            "\u001b[1m1200/1200\u001b[0m \u001b[32m━━━━━━━━━━━━━━━━━━━━\u001b[0m\u001b[37m\u001b[0m \u001b[1m5s\u001b[0m 2ms/step - accuracy: 0.7231 - loss: 0.6872 - val_accuracy: 0.7404 - val_loss: 0.6367\n",
            "Epoch 8/5000\n",
            "\u001b[1m1200/1200\u001b[0m \u001b[32m━━━━━━━━━━━━━━━━━━━━\u001b[0m\u001b[37m\u001b[0m \u001b[1m3s\u001b[0m 2ms/step - accuracy: 0.7280 - loss: 0.6618 - val_accuracy: 0.7451 - val_loss: 0.6350\n",
            "Epoch 9/5000\n",
            "\u001b[1m1200/1200\u001b[0m \u001b[32m━━━━━━━━━━━━━━━━━━━━\u001b[0m\u001b[37m\u001b[0m \u001b[1m5s\u001b[0m 2ms/step - accuracy: 0.7310 - loss: 0.6835 - val_accuracy: 0.7317 - val_loss: 0.6669\n",
            "Epoch 10/5000\n",
            "\u001b[1m1200/1200\u001b[0m \u001b[32m━━━━━━━━━━━━━━━━━━━━\u001b[0m\u001b[37m\u001b[0m \u001b[1m2s\u001b[0m 2ms/step - accuracy: 0.7417 - loss: 0.6180 - val_accuracy: 0.7304 - val_loss: 0.6501\n",
            "Epoch 11/5000\n",
            "\u001b[1m1200/1200\u001b[0m \u001b[32m━━━━━━━━━━━━━━━━━━━━\u001b[0m\u001b[37m\u001b[0m \u001b[1m2s\u001b[0m 2ms/step - accuracy: 0.7354 - loss: 0.6348 - val_accuracy: 0.7516 - val_loss: 0.6509\n",
            "Epoch 12/5000\n",
            "\u001b[1m1200/1200\u001b[0m \u001b[32m━━━━━━━━━━━━━━━━━━━━\u001b[0m\u001b[37m\u001b[0m \u001b[1m2s\u001b[0m 2ms/step - accuracy: 0.7387 - loss: 0.6253 - val_accuracy: 0.7437 - val_loss: 0.6317\n",
            "Epoch 13/5000\n",
            "\u001b[1m1200/1200\u001b[0m \u001b[32m━━━━━━━━━━━━━━━━━━━━\u001b[0m\u001b[37m\u001b[0m \u001b[1m3s\u001b[0m 2ms/step - accuracy: 0.7413 - loss: 0.6385 - val_accuracy: 0.7480 - val_loss: 0.6010\n",
            "Epoch 14/5000\n",
            "\u001b[1m1200/1200\u001b[0m \u001b[32m━━━━━━━━━━━━━━━━━━━━\u001b[0m\u001b[37m\u001b[0m \u001b[1m3s\u001b[0m 3ms/step - accuracy: 0.7500 - loss: 0.5940 - val_accuracy: 0.7437 - val_loss: 0.6376\n",
            "Epoch 15/5000\n",
            "\u001b[1m1200/1200\u001b[0m \u001b[32m━━━━━━━━━━━━━━━━━━━━\u001b[0m\u001b[37m\u001b[0m \u001b[1m3s\u001b[0m 2ms/step - accuracy: 0.7540 - loss: 0.5831 - val_accuracy: 0.7380 - val_loss: 0.6176\n",
            "Epoch 16/5000\n",
            "\u001b[1m1200/1200\u001b[0m \u001b[32m━━━━━━━━━━━━━━━━━━━━\u001b[0m\u001b[37m\u001b[0m \u001b[1m2s\u001b[0m 2ms/step - accuracy: 0.7517 - loss: 0.5852 - val_accuracy: 0.7553 - val_loss: 0.5912\n",
            "Epoch 17/5000\n",
            "\u001b[1m1200/1200\u001b[0m \u001b[32m━━━━━━━━━━━━━━━━━━━━\u001b[0m\u001b[37m\u001b[0m \u001b[1m3s\u001b[0m 2ms/step - accuracy: 0.7511 - loss: 0.5804 - val_accuracy: 0.7420 - val_loss: 0.6213\n",
            "Epoch 18/5000\n",
            "\u001b[1m1200/1200\u001b[0m \u001b[32m━━━━━━━━━━━━━━━━━━━━\u001b[0m\u001b[37m\u001b[0m \u001b[1m4s\u001b[0m 3ms/step - accuracy: 0.7482 - loss: 0.5980 - val_accuracy: 0.7542 - val_loss: 0.5997\n",
            "Epoch 19/5000\n",
            "\u001b[1m1200/1200\u001b[0m \u001b[32m━━━━━━━━━━━━━━━━━━━━\u001b[0m\u001b[37m\u001b[0m \u001b[1m4s\u001b[0m 2ms/step - accuracy: 0.7534 - loss: 0.5677 - val_accuracy: 0.7525 - val_loss: 0.5906\n",
            "Epoch 20/5000\n",
            "\u001b[1m1200/1200\u001b[0m \u001b[32m━━━━━━━━━━━━━━━━━━━━\u001b[0m\u001b[37m\u001b[0m \u001b[1m2s\u001b[0m 2ms/step - accuracy: 0.7586 - loss: 0.5617 - val_accuracy: 0.7326 - val_loss: 0.6706\n",
            "Epoch 21/5000\n",
            "\u001b[1m1200/1200\u001b[0m \u001b[32m━━━━━━━━━━━━━━━━━━━━\u001b[0m\u001b[37m\u001b[0m \u001b[1m2s\u001b[0m 2ms/step - accuracy: 0.7576 - loss: 0.5519 - val_accuracy: 0.7524 - val_loss: 0.5929\n",
            "Epoch 22/5000\n",
            "\u001b[1m1200/1200\u001b[0m \u001b[32m━━━━━━━━━━━━━━━━━━━━\u001b[0m\u001b[37m\u001b[0m \u001b[1m3s\u001b[0m 3ms/step - accuracy: 0.7615 - loss: 0.5743 - val_accuracy: 0.7527 - val_loss: 0.5769\n",
            "Epoch 23/5000\n",
            "\u001b[1m1200/1200\u001b[0m \u001b[32m━━━━━━━━━━━━━━━━━━━━\u001b[0m\u001b[37m\u001b[0m \u001b[1m2s\u001b[0m 2ms/step - accuracy: 0.7577 - loss: 0.5543 - val_accuracy: 0.7616 - val_loss: 0.5747\n",
            "Epoch 24/5000\n",
            "\u001b[1m1200/1200\u001b[0m \u001b[32m━━━━━━━━━━━━━━━━━━━━\u001b[0m\u001b[37m\u001b[0m \u001b[1m2s\u001b[0m 2ms/step - accuracy: 0.7606 - loss: 0.5496 - val_accuracy: 0.7581 - val_loss: 0.5847\n",
            "Epoch 25/5000\n",
            "\u001b[1m1200/1200\u001b[0m \u001b[32m━━━━━━━━━━━━━━━━━━━━\u001b[0m\u001b[37m\u001b[0m \u001b[1m2s\u001b[0m 2ms/step - accuracy: 0.7650 - loss: 0.5337 - val_accuracy: 0.7514 - val_loss: 0.5853\n",
            "Epoch 26/5000\n",
            "\u001b[1m1200/1200\u001b[0m \u001b[32m━━━━━━━━━━━━━━━━━━━━\u001b[0m\u001b[37m\u001b[0m \u001b[1m3s\u001b[0m 2ms/step - accuracy: 0.7566 - loss: 0.5713 - val_accuracy: 0.7771 - val_loss: 0.6088\n",
            "Epoch 27/5000\n",
            "\u001b[1m1200/1200\u001b[0m \u001b[32m━━━━━━━━━━━━━━━━━━━━\u001b[0m\u001b[37m\u001b[0m \u001b[1m3s\u001b[0m 3ms/step - accuracy: 0.7677 - loss: 0.5472 - val_accuracy: 0.7614 - val_loss: 0.5537\n",
            "Epoch 28/5000\n",
            "\u001b[1m1200/1200\u001b[0m \u001b[32m━━━━━━━━━━━━━━━━━━━━\u001b[0m\u001b[37m\u001b[0m \u001b[1m4s\u001b[0m 2ms/step - accuracy: 0.7751 - loss: 0.5210 - val_accuracy: 0.7465 - val_loss: 0.6125\n",
            "Epoch 29/5000\n",
            "\u001b[1m1200/1200\u001b[0m \u001b[32m━━━━━━━━━━━━━━━━━━━━\u001b[0m\u001b[37m\u001b[0m \u001b[1m5s\u001b[0m 2ms/step - accuracy: 0.7849 - loss: 0.5230 - val_accuracy: 0.8041 - val_loss: 0.5271\n",
            "Epoch 30/5000\n",
            "\u001b[1m1200/1200\u001b[0m \u001b[32m━━━━━━━━━━━━━━━━━━━━\u001b[0m\u001b[37m\u001b[0m \u001b[1m5s\u001b[0m 2ms/step - accuracy: 0.7989 - loss: 0.5291 - val_accuracy: 0.7666 - val_loss: 0.5582\n",
            "Epoch 31/5000\n",
            "\u001b[1m1200/1200\u001b[0m \u001b[32m━━━━━━━━━━━━━━━━━━━━\u001b[0m\u001b[37m\u001b[0m \u001b[1m3s\u001b[0m 2ms/step - accuracy: 0.8022 - loss: 0.4993 - val_accuracy: 0.8100 - val_loss: 0.5132\n",
            "Epoch 32/5000\n",
            "\u001b[1m1200/1200\u001b[0m \u001b[32m━━━━━━━━━━━━━━━━━━━━\u001b[0m\u001b[37m\u001b[0m \u001b[1m5s\u001b[0m 2ms/step - accuracy: 0.8032 - loss: 0.5047 - val_accuracy: 0.8069 - val_loss: 0.5121\n",
            "Epoch 33/5000\n",
            "\u001b[1m1200/1200\u001b[0m \u001b[32m━━━━━━━━━━━━━━━━━━━━\u001b[0m\u001b[37m\u001b[0m \u001b[1m4s\u001b[0m 3ms/step - accuracy: 0.8035 - loss: 0.4973 - val_accuracy: 0.8017 - val_loss: 0.5502\n",
            "Epoch 34/5000\n",
            "\u001b[1m1200/1200\u001b[0m \u001b[32m━━━━━━━━━━━━━━━━━━━━\u001b[0m\u001b[37m\u001b[0m \u001b[1m4s\u001b[0m 2ms/step - accuracy: 0.8053 - loss: 0.5014 - val_accuracy: 0.8158 - val_loss: 0.5035\n",
            "Epoch 35/5000\n",
            "\u001b[1m1200/1200\u001b[0m \u001b[32m━━━━━━━━━━━━━━━━━━━━\u001b[0m\u001b[37m\u001b[0m \u001b[1m3s\u001b[0m 2ms/step - accuracy: 0.8100 - loss: 0.4814 - val_accuracy: 0.8172 - val_loss: 0.5054\n",
            "Epoch 36/5000\n",
            "\u001b[1m1200/1200\u001b[0m \u001b[32m━━━━━━━━━━━━━━━━━━━━\u001b[0m\u001b[37m\u001b[0m \u001b[1m6s\u001b[0m 3ms/step - accuracy: 0.8182 - loss: 0.4730 - val_accuracy: 0.8129 - val_loss: 0.5082\n",
            "Epoch 37/5000\n",
            "\u001b[1m1200/1200\u001b[0m \u001b[32m━━━━━━━━━━━━━━━━━━━━\u001b[0m\u001b[37m\u001b[0m \u001b[1m4s\u001b[0m 2ms/step - accuracy: 0.8134 - loss: 0.4743 - val_accuracy: 0.8163 - val_loss: 0.5146\n",
            "Epoch 38/5000\n",
            "\u001b[1m1200/1200\u001b[0m \u001b[32m━━━━━━━━━━━━━━━━━━━━\u001b[0m\u001b[37m\u001b[0m \u001b[1m3s\u001b[0m 2ms/step - accuracy: 0.8159 - loss: 0.4856 - val_accuracy: 0.8006 - val_loss: 0.5338\n",
            "Epoch 39/5000\n",
            "\u001b[1m1200/1200\u001b[0m \u001b[32m━━━━━━━━━━━━━━━━━━━━\u001b[0m\u001b[37m\u001b[0m \u001b[1m2s\u001b[0m 2ms/step - accuracy: 0.8104 - loss: 0.4751 - val_accuracy: 0.8173 - val_loss: 0.5306\n",
            "\u001b[1m375/375\u001b[0m \u001b[32m━━━━━━━━━━━━━━━━━━━━\u001b[0m\u001b[37m\u001b[0m \u001b[1m1s\u001b[0m 2ms/step - accuracy: 0.8070 - loss: 0.5597\n"
          ]
        },
        {
          "output_type": "execute_result",
          "data": {
            "text/plain": [
              "[0.5406382083892822, 0.8075833320617676]"
            ]
          },
          "metadata": {},
          "execution_count": 5
        }
      ]
    },
    {
      "cell_type": "code",
      "source": [
        "best_model.evaluate(x_test,y_test)"
      ],
      "metadata": {
        "colab": {
          "base_uri": "https://localhost:8080/"
        },
        "id": "PvoNT9ryqhkS",
        "outputId": "49d0c974-186a-47cc-b636-3f5390cc3816"
      },
      "execution_count": 7,
      "outputs": [
        {
          "output_type": "stream",
          "name": "stdout",
          "text": [
            "\u001b[1m375/375\u001b[0m \u001b[32m━━━━━━━━━━━━━━━━━━━━\u001b[0m\u001b[37m\u001b[0m \u001b[1m1s\u001b[0m 1ms/step - accuracy: 0.8070 - loss: 0.5597\n"
          ]
        },
        {
          "output_type": "execute_result",
          "data": {
            "text/plain": [
              "[0.5406382083892822, 0.8075833320617676]"
            ]
          },
          "metadata": {},
          "execution_count": 7
        }
      ]
    },
    {
      "cell_type": "markdown",
      "source": [
        "- 파이토치\n",
        "   - 오픈소스 라이브러리\n",
        "   - 자동미분, 텐서 연산, 신경망 구축\n",
        "   - 텐서\n",
        "    - 다차원 배열 (스칼라, 벡터, 행렬)\n",
        "      - 스칼라 : 0텐서  단일숫자\n",
        "      - 벡터 : 1텐서  배열\n",
        "      - 행렬 : 2텐서  2차원 배열\n",
        "      - 3텐서.. 4텐서...\n"
      ],
      "metadata": {
        "id": "vvxgycJcrwdA"
      }
    },
    {
      "cell_type": "code",
      "source": [
        "import torch\n",
        "# scalar\n",
        "scalar = torch.tensor(7)\n",
        "scalar + 100"
      ],
      "metadata": {
        "colab": {
          "base_uri": "https://localhost:8080/"
        },
        "id": "PbNVqe8cruv9",
        "outputId": "ca78c5f8-bc35-4d87-998a-8a44d527b9d3"
      },
      "execution_count": 10,
      "outputs": [
        {
          "output_type": "execute_result",
          "data": {
            "text/plain": [
              "tensor(107)"
            ]
          },
          "metadata": {},
          "execution_count": 10
        }
      ]
    },
    {
      "cell_type": "code",
      "source": [
        "# 벡터\n",
        "vector = torch.tensor([1,2,3,4,5])\n",
        "vector + vector"
      ],
      "metadata": {
        "colab": {
          "base_uri": "https://localhost:8080/"
        },
        "id": "HEZim338qc5L",
        "outputId": "cda76eee-fb94-484f-bfbb-9cfbf4624151"
      },
      "execution_count": 12,
      "outputs": [
        {
          "output_type": "execute_result",
          "data": {
            "text/plain": [
              "tensor([ 2,  4,  6,  8, 10])"
            ]
          },
          "metadata": {},
          "execution_count": 12
        }
      ]
    },
    {
      "cell_type": "code",
      "source": [
        "# 행렬\n",
        "matrix = torch.tensor([[1,2,3],[4,5,6]])\n",
        "matrix"
      ],
      "metadata": {
        "colab": {
          "base_uri": "https://localhost:8080/"
        },
        "id": "tcPhm_4Jsqch",
        "outputId": "10ab0ad8-ed6e-40bf-ca61-4dbca3cf2688"
      },
      "execution_count": 13,
      "outputs": [
        {
          "output_type": "execute_result",
          "data": {
            "text/plain": [
              "tensor([[1, 2, 3],\n",
              "        [4, 5, 6]])"
            ]
          },
          "metadata": {},
          "execution_count": 13
        }
      ]
    },
    {
      "cell_type": "code",
      "source": [
        "# 텐서는 gpu연산을 지원\n",
        "# 텐서를 gpu 이동해서 연산\n",
        "device = 'cuda' if torch.cuda.is_available() else \"cpu\"\n",
        "print(f\"device is {device}\")\n",
        "m_gpu = matrix.to(device)\n",
        "print(m_gpu)\n",
        "m_cpu = m_gpu.cpu()\n",
        "print(m_cpu)"
      ],
      "metadata": {
        "colab": {
          "base_uri": "https://localhost:8080/"
        },
        "id": "tgJA1xQXswpv",
        "outputId": "0fb3b8ba-100f-43c5-b420-2e2831c57ea4"
      },
      "execution_count": 18,
      "outputs": [
        {
          "output_type": "stream",
          "name": "stdout",
          "text": [
            "device is cuda\n",
            "tensor([[1, 2, 3],\n",
            "        [4, 5, 6]], device='cuda:0')\n",
            "tensor([[1, 2, 3],\n",
            "        [4, 5, 6]])\n"
          ]
        }
      ]
    },
    {
      "cell_type": "code",
      "source": [
        "# 모양... 1차원 -> 2차원\n",
        "# 넘파이  reshape, shape\n",
        "# 텐서의 차원변경\n",
        "matrix.shape, matrix.reshape(3,2), matrix.view(3,2)"
      ],
      "metadata": {
        "colab": {
          "base_uri": "https://localhost:8080/"
        },
        "id": "wX5wFTGJt68y",
        "outputId": "1b1bdcd6-637f-4767-a08e-84302e0acf68"
      },
      "execution_count": 21,
      "outputs": [
        {
          "output_type": "execute_result",
          "data": {
            "text/plain": [
              "(torch.Size([2, 3]),\n",
              " tensor([[1, 2],\n",
              "         [3, 4],\n",
              "         [5, 6]]),\n",
              " tensor([[1, 2],\n",
              "         [3, 4],\n",
              "         [5, 6]]))"
            ]
          },
          "metadata": {},
          "execution_count": 21
        }
      ]
    },
    {
      "cell_type": "markdown",
      "source": [
        "- 자동미분"
      ],
      "metadata": {
        "id": "LV6K0Zazuy96"
      }
    },
    {
      "cell_type": "code",
      "source": [
        "x = torch.tensor(2.0,requires_grad=True)\n",
        "# 함수\n",
        "y = x**2 + 3*x + 1   # 2*x + 3\n",
        "# 미분  (y에 대한 x의 기울기)\n",
        "y.backward()\n",
        "# 미분값( 기울기)\n",
        "x.grad  # dy/dx"
      ],
      "metadata": {
        "colab": {
          "base_uri": "https://localhost:8080/"
        },
        "id": "HBeByiDQuodQ",
        "outputId": "13da40e2-9999-4e11-b8f7-c3488db4e6f1"
      },
      "execution_count": 23,
      "outputs": [
        {
          "output_type": "execute_result",
          "data": {
            "text/plain": [
              "tensor(7.)"
            ]
          },
          "metadata": {},
          "execution_count": 23
        }
      ]
    },
    {
      "cell_type": "code",
      "source": [
        "# 여러개의 변수에 대한 기울기 계산\n",
        "a = torch.tensor(3.0,requires_grad=True)\n",
        "b = torch.tensor(4.0,requires_grad=True)\n",
        "z = a*b+ a**2 + b**2\n",
        "z.backward()\n",
        "\n",
        "a.grad, b.grad\n"
      ],
      "metadata": {
        "colab": {
          "base_uri": "https://localhost:8080/"
        },
        "id": "7509GwLyvxBK",
        "outputId": "7f7a3712-17f7-4ea1-8998-d41e58ec2845"
      },
      "execution_count": 24,
      "outputs": [
        {
          "output_type": "execute_result",
          "data": {
            "text/plain": [
              "(tensor(10.), tensor(11.))"
            ]
          },
          "metadata": {},
          "execution_count": 24
        }
      ]
    },
    {
      "cell_type": "code",
      "source": [
        "# 파이토치를 이용한 경사하강법으로 예측\n",
        "# 사인곡선을 예측"
      ],
      "metadata": {
        "id": "Yv7Ft9l-vopw"
      },
      "execution_count": 25,
      "outputs": []
    },
    {
      "cell_type": "code",
      "source": [
        "import math\n",
        "import torch\n",
        "import numpy as np\n",
        "import matplotlib.pyplot as plt"
      ],
      "metadata": {
        "id": "3k52awQ0wqM0"
      },
      "execution_count": 26,
      "outputs": []
    },
    {
      "cell_type": "code",
      "source": [
        "# 데이터생성  -p ~ p 사이의 점을 균등분포로 1000개\n",
        "x = torch.linspace(-math.pi,math.pi,10000)\n",
        "y = torch.sin(x)"
      ],
      "metadata": {
        "id": "X1MBH41AwtE_"
      },
      "execution_count": 29,
      "outputs": []
    },
    {
      "cell_type": "code",
      "source": [
        "# 사인함수는 3차원 함수\n",
        "a,b,c,d = torch.rand(()),torch.rand(()),torch.rand(()),torch.rand(())\n",
        "z = a*x**3 + b*x**2 + c*x + d"
      ],
      "metadata": {
        "id": "6KrrCNXCxS6X"
      },
      "execution_count": 102,
      "outputs": []
    },
    {
      "cell_type": "code",
      "source": [
        "# 실제와 임의의 가중치로만든 함수의 그래프\n",
        "plt.figure(figsize=(8,3))\n",
        "plt.subplot(1,2,1)\n",
        "plt.plot(x,y)\n",
        "plt.subplot(1,2,2)\n",
        "plt.plot(x,z)"
      ],
      "metadata": {
        "colab": {
          "base_uri": "https://localhost:8080/",
          "height": 309
        },
        "id": "c2_prn8mx2XH",
        "outputId": "bc91710e-b538-471d-ab80-05b4dbe51d05"
      },
      "execution_count": 33,
      "outputs": [
        {
          "output_type": "execute_result",
          "data": {
            "text/plain": [
              "[<matplotlib.lines.Line2D at 0x783466a91630>]"
            ]
          },
          "metadata": {},
          "execution_count": 33
        },
        {
          "output_type": "display_data",
          "data": {
            "text/plain": [
              "<Figure size 800x300 with 2 Axes>"
            ],
            "image/png": "[encoded data removed]"
          },
          "metadata": {}
        }
      ]
    },
    {
      "cell_type": "code",
      "source": [
        "x = torch.linspace(-math.pi,math.pi,10000)\n",
        "y = torch.sin(x)\n",
        "\n",
        "a,b,c,d = torch.rand(()),torch.rand(()),torch.rand(()),torch.rand(())\n",
        "\n",
        "lr_rate = 1e-7 # 학습률 정의\n",
        "\n",
        "for epoch in range(10000): # 학습 2000번 진행\n",
        "   y_pred = a * x**3 + b * x**2 + c * x + d\n",
        "\n",
        "   loss = (y_pred - y).pow(2).sum().item() #  손실 정의\n",
        "   if epoch % 1000 == 99:\n",
        "    print(f\"epoch{epoch+1} loss:{loss}\")\n",
        "\n",
        "   grad_y_pred = 2.0 * (y_pred - y) #  기울기의 미분값\n",
        "   grad_a = (grad_y_pred * x ** 3).sum()\n",
        "   grad_b = (grad_y_pred * x ** 2).sum()\n",
        "   grad_c = (grad_y_pred * x).sum()\n",
        "   grad_d = grad_y_pred.sum()\n",
        "\n",
        "   a -= lr_rate * grad_a #  가중치 업데이트\n",
        "   b -= lr_rate * grad_b\n",
        "   c -= lr_rate * grad_c\n",
        "   d -= lr_rate * grad_d"
      ],
      "metadata": {
        "colab": {
          "base_uri": "https://localhost:8080/"
        },
        "collapsed": true,
        "id": "1Iy2QPokySs6",
        "outputId": "2d25c12e-3a02-4d7d-906b-6ce1ba3fcbc4"
      },
      "execution_count": 93,
      "outputs": [
        {
          "output_type": "stream",
          "name": "stdout",
          "text": [
            "epoch100 loss:1932.5557861328125\n",
            "epoch1100 loss:281.5458679199219\n",
            "epoch2100 loss:74.9469223022461\n",
            "epoch3100 loss:48.026634216308594\n",
            "epoch4100 loss:44.484378814697266\n",
            "epoch5100 loss:44.0123405456543\n",
            "epoch6100 loss:43.94841766357422\n",
            "epoch7100 loss:43.93958282470703\n",
            "epoch8100 loss:43.938331604003906\n",
            "epoch9100 loss:43.93815231323242\n"
          ]
        }
      ]
    },
    {
      "cell_type": "code",
      "source": [
        "type(x), type(y_pred)\n",
        "plt.subplot(3,1,1)\n",
        "plt.plot(x,y)\n",
        "\n",
        "plt.subplot(3,1,2)\n",
        "plt.plot(x.detach().numpy(),y_pred.detach().numpy())\n",
        "\n",
        "plt.subplot(3,1,3)\n",
        "plt.plot(x,z)"
      ],
      "metadata": {
        "colab": {
          "base_uri": "https://localhost:8080/",
          "height": 448
        },
        "id": "i9V47hei9S5q",
        "outputId": "f1ccf70b-93b0-45ee-9652-2c8dd17c3778"
      },
      "execution_count": 104,
      "outputs": [
        {
          "output_type": "execute_result",
          "data": {
            "text/plain": [
              "[<matplotlib.lines.Line2D at 0x7833f673a920>]"
            ]
          },
          "metadata": {},
          "execution_count": 104
        },
        {
          "output_type": "display_data",
          "data": {
            "text/plain": [
              "<Figure size 640x480 with 3 Axes>"
            ],
            "image/png": "[encoded data removed]"
          },
          "metadata": {}
        }
      ]
    },
    {
      "cell_type": "code",
      "source": [],
      "metadata": {
        "id": "J3HdUIty9A0z"
      },
      "execution_count": null,
      "outputs": []
    },
    {
      "cell_type": "markdown",
      "source": [
        "- 위의 수식을 파이토치의 자동미분을 이용"
      ],
      "metadata": {
        "id": "KRERXZzW54Bg"
      }
    },
    {
      "cell_type": "code",
      "source": [
        "x = torch.linspace(-math.pi,math.pi,10000)\n",
        "y = torch.sin(x)\n",
        "# 가중치 초기화\n",
        "a,b = torch.rand((),requires_grad=True),torch.rand((),requires_grad=True)\n",
        "c,d = torch.rand((),requires_grad=True),torch.rand((),requires_grad=True)\n",
        "lr_rate = 1e-7 # 학습률 정의\n",
        "\n",
        "for epoch in range(10000): # 학습 2000번 진행\n",
        "  y_pred = a * x**3 + b * x**2 + c * x + d\n",
        "\n",
        "  loss = (y_pred - y).pow(2).sum() #  손실 정의\n",
        "  if epoch % 1000 == 99:\n",
        "    print(f\"epoch{epoch+1} loss:{loss}\")\n",
        "  # 기울기 계산\n",
        "  loss.backward()\n",
        "  # 가중치 업데이트\n",
        "  with torch.no_grad():  # 매 학습마다 가중치를 초기화\n",
        "    a -= lr_rate * a.grad\n",
        "    b -= lr_rate * b.grad\n",
        "    c -= lr_rate * c.grad\n",
        "    d -= lr_rate * d.grad\n",
        "  # 기울기 초기화\n",
        "  a.grad.zero_()\n",
        "  b.grad.zero_()\n",
        "  c.grad.zero_()\n",
        "  d.grad.zero_()"
      ],
      "metadata": {
        "colab": {
          "base_uri": "https://localhost:8080/"
        },
        "id": "s-pL45EJ53IL",
        "outputId": "5f3a9cbe-7080-4036-bca7-483b96e4c359"
      },
      "execution_count": 94,
      "outputs": [
        {
          "output_type": "stream",
          "name": "stdout",
          "text": [
            "epoch100 loss:2691.130859375\n",
            "epoch1100 loss:381.2613830566406\n",
            "epoch2100 loss:87.11216735839844\n",
            "epoch3100 loss:49.484161376953125\n",
            "epoch4100 loss:44.654090881347656\n",
            "epoch5100 loss:44.031185150146484\n",
            "epoch6100 loss:43.9503288269043\n",
            "epoch7100 loss:43.93974304199219\n",
            "epoch8100 loss:43.93833923339844\n",
            "epoch9100 loss:43.938148498535156\n"
          ]
        }
      ]
    },
    {
      "cell_type": "code",
      "source": [
        "print(1e-3)"
      ],
      "metadata": {
        "colab": {
          "base_uri": "https://localhost:8080/"
        },
        "id": "9cew6oltybaY",
        "outputId": "14b7823b-3258-4a5d-a4fc-2ba038a27865"
      },
      "execution_count": 36,
      "outputs": [
        {
          "output_type": "stream",
          "name": "stdout",
          "text": [
            "0.001\n"
          ]
        }
      ]
    },
    {
      "cell_type": "code",
      "source": [],
      "metadata": {
        "id": "3WNbsY1VybsP"
      },
      "execution_count": null,
      "outputs": []
    }
  ]
}